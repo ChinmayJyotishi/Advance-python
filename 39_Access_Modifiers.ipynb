{
 "cells": [
  {
   "cell_type": "code",
   "execution_count": 32,
   "metadata": {},
   "outputs": [
    {
     "name": "stdout",
     "output_type": "stream",
     "text": [
      "Bhubaneswar\n",
      "Bhubaneswar\n",
      "Bhubaneswar\n"
     ]
    }
   ],
   "source": [
    "# public-\n",
    "# with in the class \n",
    "# and with in the child class also\n",
    "# can be access in whole program \n",
    "\n",
    "class alpha:\n",
    "    def __init__(self):\n",
    "        self.a = \"Bhubaneswar\"  #public attribute \n",
    "\n",
    "    def call(self):\n",
    "        print(self.a) #accessing within the class\n",
    "\n",
    "class beta(alpha):\n",
    "    def call1(self):\n",
    "        print(self.a) #accessing within the child class\n",
    "\n",
    "\n",
    "a=alpha()\n",
    "a.call()\n",
    "print(a.a) #accessing outside of the class\n",
    "\n",
    "b=beta()\n",
    "b.call1()\n",
    "\n",
    "\n"
   ]
  },
  {
   "cell_type": "code",
   "execution_count": 35,
   "metadata": {},
   "outputs": [
    {
     "name": "stdout",
     "output_type": "stream",
     "text": [
      "Gama\n",
      "Gama\n",
      "Gama\n"
     ]
    }
   ],
   "source": [
    "# public method\n",
    "\n",
    "class gama:\n",
    "    def met(self):\n",
    "        print(\"Gama\")\n",
    "\n",
    "    def call(self):\n",
    "        self.met() #with in the class\n",
    "\n",
    "class gama1(gama):\n",
    "    def call1(self):\n",
    "        self.met()   #accessing within the child class\n",
    "\n",
    "g=gama()\n",
    "g.met()  #accessing outside of  the  class\n",
    "g.call()\n",
    "\n",
    "g1=gama1()\n",
    "g1.call1()"
   ]
  },
  {
   "cell_type": "code",
   "execution_count": 39,
   "metadata": {},
   "outputs": [
    {
     "name": "stdout",
     "output_type": "stream",
     "text": [
      "Bhubaneswar22\n",
      "Bhubaneswar22\n",
      "Bhubaneswar22\n"
     ]
    }
   ],
   "source": [
    "# protected \n",
    "# where we can access\n",
    "# -with in the class  and child class\n",
    "# -but can't access outside of the class\n",
    "\n",
    "# Note-_ symbol is used to represent \n",
    "\n",
    "class kuku:\n",
    "    def __init__(self):\n",
    "        self._a = \"Bhubaneswar22\" #protected attribute \n",
    "\n",
    "    def call(self):\n",
    "        print(self._a)\n",
    "\n",
    "class pero(kuku):\n",
    "    def met(self):\n",
    "        print(self._a) #with in the child class\n",
    "\n",
    "k=kuku()\n",
    "k.call()\n",
    "\n",
    "c=pero()\n",
    "c.met()\n",
    "\n",
    "\n",
    "print(k._a)  #here u are expecting an error but it is printing the value \n",
    "# how??-- because python doesn't support protected \n",
    "# it is used for only naming convention to inform the developers \n",
    "\n"
   ]
  },
  {
   "cell_type": "code",
   "execution_count": 40,
   "metadata": {},
   "outputs": [
    {
     "name": "stdout",
     "output_type": "stream",
     "text": [
      "laptop\n"
     ]
    }
   ],
   "source": [
    "# private \n",
    "# we can access \n",
    "# -inside the class only \n",
    "\n",
    "\n",
    "class lap:\n",
    "    def __init__(self):\n",
    "        self.__x=\"laptop\"\n",
    "    def met(self):\n",
    "        print(self.__x)\n",
    "\n",
    "l=lap()\n",
    "l.met()\n"
   ]
  },
  {
   "cell_type": "code",
   "execution_count": 41,
   "metadata": {},
   "outputs": [
    {
     "name": "stdout",
     "output_type": "stream",
     "text": [
      "laptop\n"
     ]
    },
    {
     "ename": "AttributeError",
     "evalue": "'lap1' object has no attribute '_lap1__x'",
     "output_type": "error",
     "traceback": [
      "\u001b[1;31m---------------------------------------------------------------------------\u001b[0m",
      "\u001b[1;31mAttributeError\u001b[0m                            Traceback (most recent call last)",
      "Cell \u001b[1;32mIn[41], line 15\u001b[0m\n\u001b[0;32m     12\u001b[0m l\u001b[39m.\u001b[39mmet()\n\u001b[0;32m     14\u001b[0m l\u001b[39m=\u001b[39mlap1()\n\u001b[1;32m---> 15\u001b[0m l\u001b[39m.\u001b[39;49mmet1()\n",
      "Cell \u001b[1;32mIn[41], line 9\u001b[0m, in \u001b[0;36mlap1.met1\u001b[1;34m(self)\u001b[0m\n\u001b[0;32m      8\u001b[0m \u001b[39mdef\u001b[39;00m \u001b[39mmet1\u001b[39m(\u001b[39mself\u001b[39m):\n\u001b[1;32m----> 9\u001b[0m     \u001b[39mprint\u001b[39m(\u001b[39mself\u001b[39;49m\u001b[39m.\u001b[39;49m__x)\n",
      "\u001b[1;31mAttributeError\u001b[0m: 'lap1' object has no attribute '_lap1__x'"
     ]
    }
   ],
   "source": [
    "\n",
    "class lap:\n",
    "    def __init__(self):\n",
    "        self.__x=\"laptop\"\n",
    "    def met(self):\n",
    "        print(self.__x)\n",
    "\n",
    "class lap1:\n",
    "    def met1(self):\n",
    "        print(self.__x) #can't access\n",
    "\n",
    "l=lap()\n",
    "l.met()\n",
    "\n",
    "l=lap1()\n",
    "l.met1()  #it will through an error"
   ]
  },
  {
   "cell_type": "code",
   "execution_count": 42,
   "metadata": {},
   "outputs": [
    {
     "ename": "AttributeError",
     "evalue": "'lap' object has no attribute '__x'",
     "output_type": "error",
     "traceback": [
      "\u001b[1;31m---------------------------------------------------------------------------\u001b[0m",
      "\u001b[1;31mAttributeError\u001b[0m                            Traceback (most recent call last)",
      "Cell \u001b[1;32mIn[42], line 8\u001b[0m\n\u001b[0;32m      5\u001b[0m         \u001b[39mprint\u001b[39m(\u001b[39mself\u001b[39m\u001b[39m.\u001b[39m__x)\n\u001b[0;32m      7\u001b[0m l\u001b[39m=\u001b[39mlap()\n\u001b[1;32m----> 8\u001b[0m \u001b[39mprint\u001b[39m(l\u001b[39m.\u001b[39;49m__x)\n",
      "\u001b[1;31mAttributeError\u001b[0m: 'lap' object has no attribute '__x'"
     ]
    }
   ],
   "source": [
    "\n",
    "class lap:\n",
    "    def __init__(self):\n",
    "        self.__x=\"laptop\"\n",
    "    def met(self):\n",
    "        print(self.__x)\n",
    "\n",
    "l=lap()\n",
    "print(l.__x) #can't access"
   ]
  },
  {
   "cell_type": "code",
   "execution_count": 45,
   "metadata": {},
   "outputs": [
    {
     "name": "stdout",
     "output_type": "stream",
     "text": [
      "hii i am a private method\n"
     ]
    },
    {
     "ename": "AttributeError",
     "evalue": "'A' object has no attribute '__m1'",
     "output_type": "error",
     "traceback": [
      "\u001b[1;31m---------------------------------------------------------------------------\u001b[0m",
      "\u001b[1;31mAttributeError\u001b[0m                            Traceback (most recent call last)",
      "Cell \u001b[1;32mIn[45], line 16\u001b[0m\n\u001b[0;32m     14\u001b[0m a\u001b[39m=\u001b[39mA()\n\u001b[0;32m     15\u001b[0m a\u001b[39m.\u001b[39mmet()\n\u001b[1;32m---> 16\u001b[0m a\u001b[39m.\u001b[39;49m__m1() \u001b[39m#can't \u001b[39;00m\n\u001b[0;32m     18\u001b[0m d\u001b[39m=\u001b[39mdemo()\n\u001b[0;32m     19\u001b[0m d\u001b[39m.\u001b[39mmet1()\n",
      "\u001b[1;31mAttributeError\u001b[0m: 'A' object has no attribute '__m1'"
     ]
    }
   ],
   "source": [
    "# private method\n",
    "\n",
    "class A:\n",
    "    def __m1(self):\n",
    "        print(\"hii i am a private method\")\n",
    "\n",
    "    def met(self):\n",
    "        self.__m1()\n",
    "\n",
    "class demo(A):\n",
    "    def met1(self):\n",
    "        self.__m1() #can't\n",
    "\n",
    "a=A()\n",
    "a.met()\n",
    "a.__m1() #can't \n",
    "\n",
    "d=demo()\n",
    "d.met1()"
   ]
  },
  {
   "cell_type": "code",
   "execution_count": 46,
   "metadata": {},
   "outputs": [
    {
     "name": "stdout",
     "output_type": "stream",
     "text": [
      "laptop\n"
     ]
    }
   ],
   "source": [
    "# Name Mingling \n",
    "# name mingling is a trick way to access the private variable outside of the class\n",
    "\n",
    "\n",
    "class lap:\n",
    "    def __init__(self):\n",
    "        self.__x=\"laptop\"\n",
    "    \n",
    "\n",
    "l=lap()\n",
    "print(l._lap__x)\n",
    "\n",
    "# how it works-actually in the background python storing my __x variable as _lap__x\n",
    "# so by using that i can access"
   ]
  },
  {
   "cell_type": "code",
   "execution_count": null,
   "metadata": {},
   "outputs": [],
   "source": []
  },
  {
   "cell_type": "code",
   "execution_count": null,
   "metadata": {},
   "outputs": [],
   "source": []
  }
 ],
 "metadata": {
  "kernelspec": {
   "display_name": "Python 3",
   "language": "python",
   "name": "python3"
  },
  "language_info": {
   "codemirror_mode": {
    "name": "ipython",
    "version": 3
   },
   "file_extension": ".py",
   "mimetype": "text/x-python",
   "name": "python",
   "nbconvert_exporter": "python",
   "pygments_lexer": "ipython3",
   "version": "3.10.4"
  },
  "orig_nbformat": 4
 },
 "nbformat": 4,
 "nbformat_minor": 2
}
