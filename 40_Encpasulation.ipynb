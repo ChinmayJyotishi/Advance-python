{
 "cells": [
  {
   "cell_type": "code",
   "execution_count": 2,
   "metadata": {},
   "outputs": [
    {
     "name": "stdout",
     "output_type": "stream",
     "text": [
      "50000560\n",
      "6500\n"
     ]
    }
   ],
   "source": [
    "# accidental modification\n",
    "\n",
    "class CollegeAccount:\n",
    "    def __init__(self):\n",
    "         self.AccountBlance=50000560\n",
    "\n",
    "c=CollegeAccount()\n",
    "print(c.AccountBlance)\n",
    "c.AccountBlance=6500\n",
    "print(c.AccountBlance)\n",
    "\n",
    "# so here i have an account and i can modify or access it any where so no privacy\n",
    "\n",
    "# print(c.AccountBlance)"
   ]
  },
  {
   "cell_type": "code",
   "execution_count": 5,
   "metadata": {},
   "outputs": [
    {
     "name": "stdout",
     "output_type": "stream",
     "text": [
      "50000560\n"
     ]
    }
   ],
   "source": [
    "# make it some privacy \n",
    "class CollegeAccount:\n",
    "    def __init__(self):\n",
    "         self.__AccountBlance=50000560\n",
    "    def Balance(self):\n",
    "         return self.__AccountBlance\n",
    "\n",
    "c=CollegeAccount()\n",
    "print(c.Balance())\n",
    "# c.AccountBlance=6500\n",
    "# print(c.AccountBlance)\n",
    "\n",
    "# still i am not an authorised user but i can access soo no so much privacy "
   ]
  },
  {
   "cell_type": "code",
   "execution_count": 8,
   "metadata": {},
   "outputs": [
    {
     "name": "stdout",
     "output_type": "stream",
     "text": [
      "Invalid user\n",
      "50000560\n"
     ]
    }
   ],
   "source": [
    "# Encapsulation\n",
    "class CollegeAccount:\n",
    "    def __init__(self):\n",
    "         self.__AccountBlance=50000560\n",
    "    def Balance(self,passkey):\n",
    "         if passkey==5869:\n",
    "              return self.__AccountBlance\n",
    "         else:\n",
    "              return \"Invalid user\"\n",
    "\n",
    "c=CollegeAccount()\n",
    "print(c.Balance(58699)) #now i cant access without passkey \n",
    "# here we are hiding the data with a passkey i.e data hiding \n",
    "\n",
    "print(c.Balance(5869))\n"
   ]
  },
  {
   "cell_type": "code",
   "execution_count": null,
   "metadata": {},
   "outputs": [],
   "source": []
  },
  {
   "cell_type": "code",
   "execution_count": null,
   "metadata": {},
   "outputs": [],
   "source": []
  }
 ],
 "metadata": {
  "kernelspec": {
   "display_name": "Python 3",
   "language": "python",
   "name": "python3"
  },
  "language_info": {
   "codemirror_mode": {
    "name": "ipython",
    "version": 3
   },
   "file_extension": ".py",
   "mimetype": "text/x-python",
   "name": "python",
   "nbconvert_exporter": "python",
   "pygments_lexer": "ipython3",
   "version": "3.10.4"
  },
  "orig_nbformat": 4
 },
 "nbformat": 4,
 "nbformat_minor": 2
}
