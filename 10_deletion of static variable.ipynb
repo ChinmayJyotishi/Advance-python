{
 "cells": [
  {
   "cell_type": "code",
   "execution_count": 3,
   "metadata": {},
   "outputs": [
    {
     "name": "stdout",
     "output_type": "stream",
     "text": [
      "{'__module__': '__main__', 'clg': 'nit college', '__dict__': <attribute '__dict__' of 'std' objects>, '__weakref__': <attribute '__weakref__' of 'std' objects>, '__doc__': None}\n",
      "{'__module__': '__main__', '__dict__': <attribute '__dict__' of 'std' objects>, '__weakref__': <attribute '__weakref__' of 'std' objects>, '__doc__': None}\n"
     ]
    }
   ],
   "source": [
    "# outside of the class\n",
    "class std:\n",
    "    clg='nit college'\n",
    "\n",
    "print(std.__dict__)\n",
    "del std.clg\n",
    "print(std.__dict__)"
   ]
  },
  {
   "cell_type": "code",
   "execution_count": 6,
   "metadata": {},
   "outputs": [
    {
     "name": "stdout",
     "output_type": "stream",
     "text": [
      "{'__module__': '__main__', 'clg': 'nit college', '__init__': <function std.__init__ at 0x00000246B04B7A30>, '__dict__': <attribute '__dict__' of 'std' objects>, '__weakref__': <attribute '__weakref__' of 'std' objects>, '__doc__': None}\n",
      "****************************************************************************************************\n",
      "{'__module__': '__main__', '__init__': <function std.__init__ at 0x00000246B04B7A30>, '__dict__': <attribute '__dict__' of 'std' objects>, '__weakref__': <attribute '__weakref__' of 'std' objects>, '__doc__': None}\n"
     ]
    }
   ],
   "source": [
    "# inside the constructor \n",
    "class std:\n",
    "    clg='nit college'\n",
    "    place='khorda'\n",
    "    def __init__(self):\n",
    "        del std.clg,std.place #you can delete more than 1 at a time\n",
    "print(std.__dict__)\n",
    "\n",
    "print('*'*100)\n",
    "\n",
    "s1=std()\n",
    "print(std.__dict__)"
   ]
  },
  {
   "cell_type": "code",
   "execution_count": 8,
   "metadata": {},
   "outputs": [
    {
     "name": "stdout",
     "output_type": "stream",
     "text": [
      "{'__module__': '__main__', 'clg': 'JN college', 'dlt': <function std.dlt at 0x00000246B0636710>, '__dict__': <attribute '__dict__' of 'std' objects>, '__weakref__': <attribute '__weakref__' of 'std' objects>, '__doc__': None}\n",
      "\n",
      " after deletion \n",
      "\n",
      "{'__module__': '__main__', 'dlt': <function std.dlt at 0x00000246B0636710>, '__dict__': <attribute '__dict__' of 'std' objects>, '__weakref__': <attribute '__weakref__' of 'std' objects>, '__doc__': None}\n"
     ]
    }
   ],
   "source": [
    "# inside instance method\n",
    "class std:\n",
    "    clg='JN college'\n",
    "    def dlt(self):\n",
    "        del std.clg\n",
    "print(std.__dict__)\n",
    "s1=std()\n",
    "s1.dlt()\n",
    "print('\\n AFTER DELETION \\n')\n",
    "print(std.__dict__)"
   ]
  },
  {
   "cell_type": "code",
   "execution_count": 10,
   "metadata": {},
   "outputs": [
    {
     "name": "stdout",
     "output_type": "stream",
     "text": [
      "{'__module__': '__main__', 'clg': 'JN college', 'dlt': <classmethod(<function std.dlt at 0x00000246B0636680>)>, '__dict__': <attribute '__dict__' of 'std' objects>, '__weakref__': <attribute '__weakref__' of 'std' objects>, '__doc__': None}\n",
      "\n",
      " AFTER DELETION \n",
      "\n",
      "{'__module__': '__main__', 'dlt': <classmethod(<function std.dlt at 0x00000246B0636680>)>, '__dict__': <attribute '__dict__' of 'std' objects>, '__weakref__': <attribute '__weakref__' of 'std' objects>, '__doc__': None}\n"
     ]
    }
   ],
   "source": [
    "# inside class method\n",
    "class std:\n",
    "    clg='JN college'\n",
    "    @classmethod\n",
    "    def dlt(cls):\n",
    "        del std.clg\n",
    "print(std.__dict__)\n",
    "s1=std()\n",
    "std.dlt()\n",
    "print('\\n AFTER DELETION \\n')\n",
    "print(std.__dict__)"
   ]
  },
  {
   "cell_type": "code",
   "execution_count": 12,
   "metadata": {},
   "outputs": [
    {
     "name": "stdout",
     "output_type": "stream",
     "text": [
      "{'__module__': '__main__', 'clg': 'JNB college', 'dlt': <staticmethod(<function std.dlt at 0x00000246B06360E0>)>, '__dict__': <attribute '__dict__' of 'std' objects>, '__weakref__': <attribute '__weakref__' of 'std' objects>, '__doc__': None}\n",
      "\n",
      " AFTER DELETION \n",
      "\n",
      "{'__module__': '__main__', 'dlt': <staticmethod(<function std.dlt at 0x00000246B06360E0>)>, '__dict__': <attribute '__dict__' of 'std' objects>, '__weakref__': <attribute '__weakref__' of 'std' objects>, '__doc__': None}\n"
     ]
    }
   ],
   "source": [
    "# inside static method\n",
    "class std:\n",
    "    clg='JNB college'\n",
    "    @staticmethod\n",
    "    def dlt():\n",
    "        del std.clg\n",
    "print(std.__dict__)\n",
    "s1=std()\n",
    "std.dlt()\n",
    "print('\\n AFTER DELETION \\n')\n",
    "print(std.__dict__)"
   ]
  },
  {
   "cell_type": "code",
   "execution_count": null,
   "metadata": {},
   "outputs": [],
   "source": []
  },
  {
   "cell_type": "code",
   "execution_count": null,
   "metadata": {},
   "outputs": [],
   "source": []
  },
  {
   "cell_type": "code",
   "execution_count": null,
   "metadata": {},
   "outputs": [],
   "source": []
  },
  {
   "cell_type": "code",
   "execution_count": null,
   "metadata": {},
   "outputs": [],
   "source": []
  },
  {
   "cell_type": "code",
   "execution_count": null,
   "metadata": {},
   "outputs": [],
   "source": []
  }
 ],
 "metadata": {
  "kernelspec": {
   "display_name": "Python 3",
   "language": "python",
   "name": "python3"
  },
  "language_info": {
   "codemirror_mode": {
    "name": "ipython",
    "version": 3
   },
   "file_extension": ".py",
   "mimetype": "text/x-python",
   "name": "python",
   "nbconvert_exporter": "python",
   "pygments_lexer": "ipython3",
   "version": "3.10.4"
  },
  "orig_nbformat": 4,
  "vscode": {
   "interpreter": {
    "hash": "27f6fea6f47ae512550f0b8facdbd035a93e1dd89633f7bf2dd00a2502c71d0d"
   }
  }
 },
 "nbformat": 4,
 "nbformat_minor": 2
}
