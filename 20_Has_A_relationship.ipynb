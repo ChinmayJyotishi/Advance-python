{
 "cells": [
  {
   "cell_type": "code",
   "execution_count": 2,
   "metadata": {},
   "outputs": [
    {
     "name": "stdout",
     "output_type": "stream",
     "text": [
      "employee name is chinmay\n",
      "employee id  is 121\n",
      "employee salary is 950000\n",
      "car name is Thar\n",
      "car color is black\n",
      "car price is 1800000\n"
     ]
    }
   ],
   "source": [
    "# has-A relationship is a strong relationship\n",
    "class car:\n",
    "    def __init__(self,cname,ccolor,cprice) :\n",
    "        self.name=cname\n",
    "        self.color=ccolor\n",
    "        self.price=cprice\n",
    "        \n",
    "    def printcardetails(self):\n",
    "        print(f'car name is {self.name}')\n",
    "        print(f'car color is {self.color}')\n",
    "        print(f'car price is {self.price}')\n",
    "class employee:\n",
    "    def __init__(self,empname,eid,esalary) :\n",
    "        \n",
    "        self.name=empname\n",
    "        self.eid=eid\n",
    "        self.salary=esalary\n",
    "        self.c=car('Thar','black',1800000)\n",
    "    def printemployeedetails(self):\n",
    "        print(f'employee name is {self.name}')\n",
    "        print(f'employee id  is {self.eid}')\n",
    "        print(f'employee salary is {self.salary}')\n",
    "        self.c.printcardetails()\n",
    "    \n",
    "emp=employee('chinmay',121,950000)\n",
    "emp.printemployeedetails()\n",
    "\n"
   ]
  },
  {
   "cell_type": "code",
   "execution_count": null,
   "metadata": {},
   "outputs": [],
   "source": []
  },
  {
   "cell_type": "code",
   "execution_count": null,
   "metadata": {},
   "outputs": [],
   "source": []
  },
  {
   "cell_type": "code",
   "execution_count": null,
   "metadata": {},
   "outputs": [],
   "source": []
  },
  {
   "cell_type": "code",
   "execution_count": null,
   "metadata": {},
   "outputs": [],
   "source": []
  },
  {
   "cell_type": "code",
   "execution_count": null,
   "metadata": {},
   "outputs": [],
   "source": []
  },
  {
   "cell_type": "code",
   "execution_count": null,
   "metadata": {},
   "outputs": [],
   "source": []
  },
  {
   "cell_type": "code",
   "execution_count": null,
   "metadata": {},
   "outputs": [],
   "source": []
  },
  {
   "cell_type": "code",
   "execution_count": null,
   "metadata": {},
   "outputs": [],
   "source": []
  },
  {
   "cell_type": "code",
   "execution_count": null,
   "metadata": {},
   "outputs": [],
   "source": []
  }
 ],
 "metadata": {
  "kernelspec": {
   "display_name": "Python 3",
   "language": "python",
   "name": "python3"
  },
  "language_info": {
   "codemirror_mode": {
    "name": "ipython",
    "version": 3
   },
   "file_extension": ".py",
   "mimetype": "text/x-python",
   "name": "python",
   "nbconvert_exporter": "python",
   "pygments_lexer": "ipython3",
   "version": "3.10.4"
  },
  "orig_nbformat": 4,
  "vscode": {
   "interpreter": {
    "hash": "27f6fea6f47ae512550f0b8facdbd035a93e1dd89633f7bf2dd00a2502c71d0d"
   }
  }
 },
 "nbformat": 4,
 "nbformat_minor": 2
}
