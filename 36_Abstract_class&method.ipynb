{
 "cells": [
  {
   "cell_type": "code",
   "execution_count": 2,
   "metadata": {},
   "outputs": [
    {
     "name": "stdout",
     "output_type": "stream",
     "text": [
      "no .of seats are 55\n",
      "no of wheels are 8\n"
     ]
    }
   ],
   "source": [
    "from abc import ABC, abstractmethod\n",
    "# abc is a module and ABC is a class name\n",
    "# abc-abstract based class\n",
    "\n",
    "# this will very helpfull in the frameworks\n",
    "class Vehicle(ABC):\n",
    "   \n",
    "    @abstractmethod\n",
    "    def nof_wheels(self):\n",
    "        p @abstractmethod  # decorator\n",
    "    def nof_seats(self):\n",
    "        pass\n",
    "ass\n",
    "\n",
    "\n",
    "class Bus(Vehicle):\n",
    "    def nof_seats(self):\n",
    "        print(\"no .of seats are 55\")\n",
    "\n",
    "    def nof_wheels(self):\n",
    "        print(\"no of wheels are 8\")\n",
    "\n",
    "\n",
    "b = Bus()\n",
    "b.nof_seats()\n",
    "b.nof_wheels()\n"
   ]
  }
 ],
 "metadata": {
  "kernelspec": {
   "display_name": "Python 3",
   "language": "python",
   "name": "python3"
  },
  "language_info": {
   "codemirror_mode": {
    "name": "ipython",
    "version": 3
   },
   "file_extension": ".py",
   "mimetype": "text/x-python",
   "name": "python",
   "nbconvert_exporter": "python",
   "pygments_lexer": "ipython3",
   "version": "3.10.4"
  },
  "orig_nbformat": 4
 },
 "nbformat": 4,
 "nbformat_minor": 2
}
