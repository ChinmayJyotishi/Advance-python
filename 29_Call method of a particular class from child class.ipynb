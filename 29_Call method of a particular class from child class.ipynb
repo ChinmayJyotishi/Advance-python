{
 "cells": [
  {
   "cell_type": "code",
   "execution_count": 2,
   "metadata": {},
   "outputs": [
    {
     "name": "stdout",
     "output_type": "stream",
     "text": [
      "D-met4\n",
      "A-met1\n",
      "B-met2\n"
     ]
    }
   ],
   "source": [
    "class A:\n",
    "    def met1(self):\n",
    "        print(\"A-met1\")\n",
    "class B(A):\n",
    "    def met1(self):\n",
    "        print(\"B-met2\")\n",
    "class C(A):\n",
    "    def met1(self):\n",
    "        print(\"C-met3\")\n",
    "class D(B,C):\n",
    "    def met1(self):\n",
    "        print(\"D-met4\")\n",
    "        A.met1(self)  #calling the parent class method from the another child class method \n",
    "        super().met1() #as D have 2 super classes but it will give morr priority to B as it is written first\n",
    "\n",
    "\n",
    "d=D()\n",
    "d.met1()\n"
   ]
  },
  {
   "cell_type": "code",
   "execution_count": 6,
   "metadata": {},
   "outputs": [
    {
     "name": "stdout",
     "output_type": "stream",
     "text": [
      "104\n",
      "102\n"
     ]
    }
   ],
   "source": []
  },
  {
   "cell_type": "markdown",
   "metadata": {},
   "source": []
  }
 ],
 "metadata": {
  "kernelspec": {
   "display_name": "Python 3",
   "language": "python",
   "name": "python3"
  },
  "language_info": {
   "codemirror_mode": {
    "name": "ipython",
    "version": 3
   },
   "file_extension": ".py",
   "mimetype": "text/x-python",
   "name": "python",
   "nbconvert_exporter": "python",
   "pygments_lexer": "ipython3",
   "version": "3.10.4"
  },
  "orig_nbformat": 4,
  "vscode": {
   "interpreter": {
    "hash": "27f6fea6f47ae512550f0b8facdbd035a93e1dd89633f7bf2dd00a2502c71d0d"
   }
  }
 },
 "nbformat": 4,
 "nbformat_minor": 2
}
