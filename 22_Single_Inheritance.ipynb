{
 "cells": [
  {
   "cell_type": "code",
   "execution_count": 2,
   "metadata": {},
   "outputs": [
    {
     "name": "stdout",
     "output_type": "stream",
     "text": [
      "10 20\n"
     ]
    }
   ],
   "source": [
    "# SINGLE INHERITANCE--\n",
    "class parent:\n",
    "    def method1(self):\n",
    "        self.a=10\n",
    "        self.b=20\n",
    "        print(self.a,self.b)\n",
    "\n",
    "class child(parent):\n",
    "    pass\n",
    "\n",
    "c=child()\n",
    "c.method1()\n",
    "\n"
   ]
  },
  {
   "cell_type": "code",
   "execution_count": 4,
   "metadata": {},
   "outputs": [
    {
     "ename": "AttributeError",
     "evalue": "'parent' object has no attribute 'method2'",
     "output_type": "error",
     "traceback": [
      "\u001b[1;31m---------------------------------------------------------------------------\u001b[0m",
      "\u001b[1;31mAttributeError\u001b[0m                            Traceback (most recent call last)",
      "Cell \u001b[1;32mIn[4], line 13\u001b[0m\n\u001b[0;32m     10\u001b[0m         \u001b[39mprint\u001b[39m(\u001b[39mself\u001b[39m\u001b[39m.\u001b[39mc)\n\u001b[0;32m     12\u001b[0m p\u001b[39m=\u001b[39mparent()\n\u001b[1;32m---> 13\u001b[0m p\u001b[39m.\u001b[39;49mmethod2()\n\u001b[0;32m     15\u001b[0m \u001b[39m# you can call or all the method and variable of parent class by using child class obj but the vice versa is not possible\u001b[39;00m\n",
      "\u001b[1;31mAttributeError\u001b[0m: 'parent' object has no attribute 'method2'"
     ]
    }
   ],
   "source": [
    "class parent:\n",
    "    def method1(self):\n",
    "        self.a=10\n",
    "        self.b=20\n",
    "        print(self.a,self.b)\n",
    "\n",
    "class child(parent):\n",
    "    def method2(self):\n",
    "        self.c=123\n",
    "        print(self.c)\n",
    "\n",
    "p=parent()\n",
    "p.method2()\n",
    "\n",
    "# you can call or all the method and variable of parent class by using child class obj but the vice versa is not possible"
   ]
  },
  {
   "cell_type": "code",
   "execution_count": 13,
   "metadata": {},
   "outputs": [
    {
     "name": "stdout",
     "output_type": "stream",
     "text": [
      "parent classs classmethod\n",
      "parent class instance method\n"
     ]
    },
    {
     "data": {
      "text/plain": [
       "25"
      ]
     },
     "execution_count": 13,
     "metadata": {},
     "output_type": "execute_result"
    }
   ],
   "source": [
    "class parent:\n",
    "    static_var=10\n",
    "    def insta(self):\n",
    "        print(\"parent class instance method\")\n",
    "        self.instance_var=25\n",
    "\n",
    "    @classmethod\n",
    "    def cm(cls):\n",
    "        print(\"parent classs classmethod\")\n",
    "\n",
    "    @staticmethod\n",
    "    def sm():\n",
    "        print(\"parent classs staticmethod\")\n",
    "\n",
    "class child(parent):\n",
    "    pass\n",
    "\n",
    "c=child()\n",
    "c.cm()\n",
    "c.insta()\n",
    "c.static_var\n",
    "c.instance_var\n",
    "\n",
    "# you can acsess static,class method and static,instance variable using child class obj \n"
   ]
  },
  {
   "cell_type": "code",
   "execution_count": 6,
   "metadata": {},
   "outputs": [
    {
     "name": "stdout",
     "output_type": "stream",
     "text": [
      "55\n",
      "55\n",
      "2073777670064\n",
      "2073777670064\n",
      "True\n"
     ]
    }
   ],
   "source": [
    "class A:\n",
    "    def met(self):\n",
    "        self.a=55\n",
    "\n",
    "class B(A):\n",
    "    pass\n",
    "\n",
    "\n",
    "a=A()\n",
    "a.met()\n",
    "print(a.a)\n",
    "\n",
    "b=B()\n",
    "b.met()\n",
    "print(b.a)\n",
    "\n",
    "print(id(a.a))\n",
    "print(id(b.a))\n",
    "\n",
    "# both are pointing to same location\n",
    "print(a.a is b.a)"
   ]
  },
  {
   "cell_type": "code",
   "execution_count": 2,
   "metadata": {},
   "outputs": [
    {
     "name": "stdout",
     "output_type": "stream",
     "text": [
      "{'l': 56}\n",
      "{'l': 69}\n"
     ]
    }
   ],
   "source": [
    "# if u do any modification in child class then it will not reflect to parent class\n",
    "# DRY RUN is REQUIRED\n",
    "class A:\n",
    "    def met(self):\n",
    "        self.l=56\n",
    "class B(A):\n",
    "    def met1(self):\n",
    "        self.l=69\n",
    "\n",
    "a=A()\n",
    "a.met()\n",
    "print(a.__dict__)\n",
    "\n",
    "b=B()\n",
    "b.met()\n",
    "b.met1()\n",
    "print(b.__dict__)\n",
    "\n"
   ]
  },
  {
   "cell_type": "code",
   "execution_count": null,
   "metadata": {},
   "outputs": [],
   "source": []
  },
  {
   "cell_type": "code",
   "execution_count": null,
   "metadata": {},
   "outputs": [],
   "source": []
  }
 ],
 "metadata": {
  "kernelspec": {
   "display_name": "Python 3",
   "language": "python",
   "name": "python3"
  },
  "language_info": {
   "codemirror_mode": {
    "name": "ipython",
    "version": 3
   },
   "file_extension": ".py",
   "mimetype": "text/x-python",
   "name": "python",
   "nbconvert_exporter": "python",
   "pygments_lexer": "ipython3",
   "version": "3.10.4"
  },
  "orig_nbformat": 4,
  "vscode": {
   "interpreter": {
    "hash": "27f6fea6f47ae512550f0b8facdbd035a93e1dd89633f7bf2dd00a2502c71d0d"
   }
  }
 },
 "nbformat": 4,
 "nbformat_minor": 2
}
