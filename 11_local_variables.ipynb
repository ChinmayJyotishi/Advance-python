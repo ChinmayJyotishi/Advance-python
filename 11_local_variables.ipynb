{
 "cells": [
  {
   "cell_type": "code",
   "execution_count": 3,
   "metadata": {},
   "outputs": [
    {
     "name": "stdout",
     "output_type": "stream",
     "text": [
      "30\n"
     ]
    }
   ],
   "source": [
    "# local variables are temporary variables\n",
    "\n",
    "class calculation:\n",
    "    def add(self):\n",
    "        a=10\n",
    "        b=20\n",
    "        result=a+b\n",
    "        print(result)\n",
    "c1=calculation()\n",
    "c1.add()"
   ]
  },
  {
   "cell_type": "code",
   "execution_count": 4,
   "metadata": {},
   "outputs": [
    {
     "ename": "NameError",
     "evalue": "name 'a' is not defined",
     "output_type": "error",
     "traceback": [
      "\u001b[1;31m---------------------------------------------------------------------------\u001b[0m",
      "\u001b[1;31mNameError\u001b[0m                                 Traceback (most recent call last)",
      "Cell \u001b[1;32mIn[4], line 10\u001b[0m\n\u001b[0;32m      8\u001b[0m c1\u001b[39m=\u001b[39mcal()\n\u001b[0;32m      9\u001b[0m c1\u001b[39m.\u001b[39mtest()\n\u001b[1;32m---> 10\u001b[0m c1\u001b[39m.\u001b[39;49mdemo()\n",
      "Cell \u001b[1;32mIn[4], line 7\u001b[0m, in \u001b[0;36mcal.demo\u001b[1;34m(self)\u001b[0m\n\u001b[0;32m      5\u001b[0m \u001b[39mdef\u001b[39;00m \u001b[39mdemo\u001b[39m(\u001b[39mself\u001b[39m):\n\u001b[1;32m----> 7\u001b[0m     \u001b[39mprint\u001b[39m(a\u001b[39m+\u001b[39mb)\n",
      "\u001b[1;31mNameError\u001b[0m: name 'a' is not defined"
     ]
    }
   ],
   "source": [
    "class cal:\n",
    "    def test(self):\n",
    "        a=10\n",
    "        b=20\n",
    "    def demo(self):\n",
    "\n",
    "        print(a+b) #you cant access the local variables out side of the function because once the function exexcuted is completed the it will be destroyed from the memory\n",
    "c1=cal()\n",
    "c1.test()\n",
    "c1.demo()"
   ]
  },
  {
   "cell_type": "code",
   "execution_count": 9,
   "metadata": {},
   "outputs": [
    {
     "name": "stdout",
     "output_type": "stream",
     "text": [
      "cj\n"
     ]
    }
   ],
   "source": [
    "class std:\n",
    "    def __init__(self,name,age): #this name and age are local variables\n",
    "        self.name=name #assining the local variables to instance variables\n",
    "    \n",
    "    def print(self):\n",
    "        print(self.name) #instance variables\n",
    "        # print(name) #local variable\n",
    "s1=std('cj',21)\n",
    "s1.print()\n",
    "        "
   ]
  },
  {
   "cell_type": "code",
   "execution_count": null,
   "metadata": {},
   "outputs": [],
   "source": []
  },
  {
   "cell_type": "code",
   "execution_count": null,
   "metadata": {},
   "outputs": [],
   "source": []
  },
  {
   "cell_type": "code",
   "execution_count": null,
   "metadata": {},
   "outputs": [],
   "source": []
  },
  {
   "cell_type": "code",
   "execution_count": null,
   "metadata": {},
   "outputs": [],
   "source": []
  },
  {
   "cell_type": "code",
   "execution_count": null,
   "metadata": {},
   "outputs": [],
   "source": []
  },
  {
   "cell_type": "code",
   "execution_count": null,
   "metadata": {},
   "outputs": [],
   "source": []
  },
  {
   "cell_type": "code",
   "execution_count": null,
   "metadata": {},
   "outputs": [],
   "source": []
  },
  {
   "cell_type": "code",
   "execution_count": null,
   "metadata": {},
   "outputs": [],
   "source": []
  },
  {
   "cell_type": "code",
   "execution_count": null,
   "metadata": {},
   "outputs": [],
   "source": []
  }
 ],
 "metadata": {
  "kernelspec": {
   "display_name": "Python 3",
   "language": "python",
   "name": "python3"
  },
  "language_info": {
   "codemirror_mode": {
    "name": "ipython",
    "version": 3
   },
   "file_extension": ".py",
   "mimetype": "text/x-python",
   "name": "python",
   "nbconvert_exporter": "python",
   "pygments_lexer": "ipython3",
   "version": "3.10.4"
  },
  "orig_nbformat": 4,
  "vscode": {
   "interpreter": {
    "hash": "27f6fea6f47ae512550f0b8facdbd035a93e1dd89633f7bf2dd00a2502c71d0d"
   }
  }
 },
 "nbformat": 4,
 "nbformat_minor": 2
}
