{
 "cells": [
  {
   "cell_type": "code",
   "execution_count": 5,
   "metadata": {},
   "outputs": [
    {
     "name": "stdout",
     "output_type": "stream",
     "text": [
      "(<class '__main__.A'>, <class 'object'>)\n",
      "(<class '__main__.D'>, <class '__main__.B'>, <class '__main__.A'>, <class 'object'>)\n",
      "(<class '__main__.F'>, <class '__main__.D'>, <class '__main__.B'>, <class '__main__.E'>, <class '__main__.C'>, <class '__main__.A'>, <class 'object'>)\n"
     ]
    }
   ],
   "source": [
    "# MRO is not a very required thing but it is good to understand the concept\n",
    "\n",
    "class A:\n",
    "    def m1(self):\n",
    "        print(\"A\")\n",
    "class B(A):\n",
    "    def m1(self):\n",
    "        print(\"B\")\n",
    "class C(A):\n",
    "    def m1(self):\n",
    "        print(\"C\")\n",
    "class D(B):\n",
    "    # def m1(self):\n",
    "        print(\"D\")\n",
    "class E(C):\n",
    "    # def m1(self):\n",
    "        print(\"E\")\n",
    "class F(D,E):\n",
    "    # def m1(self):\n",
    "        print(\"A\")\n",
    "\n",
    "print(A.__mro__)\n",
    "print(D.__mro__)\n",
    "print(F.__mro__)\n",
    "\n",
    "f=F()\n",
    "f.m1()"
   ]
  },
  {
   "cell_type": "markdown",
   "metadata": {},
   "source": []
  },
  {
   "cell_type": "code",
   "execution_count": null,
   "metadata": {},
   "outputs": [],
   "source": []
  }
 ],
 "metadata": {
  "kernelspec": {
   "display_name": "Python 3",
   "language": "python",
   "name": "python3"
  },
  "language_info": {
   "codemirror_mode": {
    "name": "ipython",
    "version": 3
   },
   "file_extension": ".py",
   "mimetype": "text/x-python",
   "name": "python",
   "nbconvert_exporter": "python",
   "pygments_lexer": "ipython3",
   "version": "3.10.4"
  },
  "orig_nbformat": 4,
  "vscode": {
   "interpreter": {
    "hash": "27f6fea6f47ae512550f0b8facdbd035a93e1dd89633f7bf2dd00a2502c71d0d"
   }
  }
 },
 "nbformat": 4,
 "nbformat_minor": 2
}
