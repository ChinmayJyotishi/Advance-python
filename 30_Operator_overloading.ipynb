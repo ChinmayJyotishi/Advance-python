{
 "cells": [
  {
   "cell_type": "code",
   "execution_count": 3,
   "metadata": {},
   "outputs": [
    {
     "name": "stdout",
     "output_type": "stream",
     "text": [
      "30\n",
      "1020\n"
     ]
    }
   ],
   "source": [
    "print(10+20)\n",
    "print(\"10\"+\"20\")\n",
    "# same + operator is working diffrently in different condition"
   ]
  },
  {
   "cell_type": "code",
   "execution_count": 4,
   "metadata": {},
   "outputs": [
    {
     "ename": "TypeError",
     "evalue": "unsupported operand type(s) for +: 'employee' and 'student'",
     "output_type": "error",
     "traceback": [
      "\u001b[1;31m---------------------------------------------------------------------------\u001b[0m",
      "\u001b[1;31mTypeError\u001b[0m                                 Traceback (most recent call last)",
      "Cell \u001b[1;32mIn[4], line 10\u001b[0m\n\u001b[0;32m      8\u001b[0m e\u001b[39m=\u001b[39memployee(\u001b[39m45000\u001b[39m)\n\u001b[0;32m      9\u001b[0m s\u001b[39m=\u001b[39mstudent(\u001b[39m5000\u001b[39m)\n\u001b[1;32m---> 10\u001b[0m \u001b[39mprint\u001b[39m(e\u001b[39m+\u001b[39;49ms)\n",
      "\u001b[1;31mTypeError\u001b[0m: unsupported operand type(s) for +: 'employee' and 'student'"
     ]
    }
   ],
   "source": [
    "# operator overloading without magic method(which is not possible)\n",
    "\n",
    "class employee:\n",
    "    def __init__(self,sal) :\n",
    "        self.sal=sal\n",
    "class student:\n",
    "    def __init__(self,pkt_money) :\n",
    "        self.pkt_money=pkt_money\n",
    "\n",
    "e=employee(45000)\n",
    "s=student(5000)\n",
    "print(e+s) #error"
   ]
  },
  {
   "cell_type": "code",
   "execution_count": 7,
   "metadata": {},
   "outputs": [
    {
     "name": "stdout",
     "output_type": "stream",
     "text": [
      "45000\n",
      "5000\n",
      "50000\n"
     ]
    }
   ],
   "source": [
    "# operator overloading with magic method\n",
    "\n",
    "class employee:\n",
    "    def __init__(self,sal) :\n",
    "        self.sal=sal\n",
    "\n",
    "    def __add__(self,other):  #this is a magic method provided by python ,no need to call it will call automatically when u add 2 obj\n",
    "        print(self.sal)\n",
    "        print(other.pkt_money) #proof\n",
    "        return self.sal+other.pkt_money\n",
    "class student:\n",
    "    def __init__(self,pkt_money) :\n",
    "        self.pkt_money=pkt_money\n",
    "\n",
    "e=employee(45000)\n",
    "s=student(5000)\n",
    "print(e+s) "
   ]
  },
  {
   "cell_type": "code",
   "execution_count": 11,
   "metadata": {},
   "outputs": [
    {
     "name": "stdout",
     "output_type": "stream",
     "text": [
      "45000\n",
      "5000\n",
      "True\n"
     ]
    }
   ],
   "source": [
    "class employee:\n",
    "    def __init__(self,sal) :\n",
    "        self.sal=sal\n",
    "\n",
    "    def __gt__(self,other): #to check greater then\n",
    "      \n",
    "        return self.sal>other.pkt_money\n",
    "class student:\n",
    "    def __init__(self,pkt_money) :\n",
    "        self.pkt_money=pkt_money\n",
    "\n",
    "e=employee(45000)\n",
    "s=student(5000)\n",
    "print(e>s) "
   ]
  },
  {
   "cell_type": "code",
   "execution_count": null,
   "metadata": {},
   "outputs": [],
   "source": []
  },
  {
   "cell_type": "code",
   "execution_count": 18,
   "metadata": {},
   "outputs": [
    {
     "name": "stdout",
     "output_type": "stream",
     "text": [
      "77\n"
     ]
    }
   ],
   "source": [
    "\n",
    "class nn:\n",
    "    def __init__(self,pkt_money) :\n",
    "        self.pkt_money=pkt_money\n",
    "\n",
    "    def __add__(self,other):\n",
    "        return self.pkt_money+other.sal\n",
    "\n",
    "\n",
    "class ev:\n",
    "    def __init__(self,sal) :\n",
    "        self.sal=sal\n",
    "\n",
    "s=nn(55)\n",
    "e=ev(22)\n",
    "print(s+e)\n"
   ]
  },
  {
   "cell_type": "code",
   "execution_count": 16,
   "metadata": {},
   "outputs": [
    {
     "name": "stdout",
     "output_type": "stream",
     "text": [
      "30000\n"
     ]
    }
   ],
   "source": [
    "class clg:\n",
    "    def __init__(self,accBal) :\n",
    "        self.accBal=accBal\n",
    "\n",
    "\n",
    "    def __add__(self,other):\n",
    "        return self.accBal+other.money\n",
    "\n",
    "class std:\n",
    "    def __init__(self,money) :\n",
    "        self.money=money\n",
    "\n",
    "c=clg(10000)\n",
    "s=std(20000)\n",
    "print(c+s)"
   ]
  },
  {
   "cell_type": "code",
   "execution_count": 17,
   "metadata": {},
   "outputs": [
    {
     "name": "stdout",
     "output_type": "stream",
     "text": [
      "30000\n"
     ]
    }
   ],
   "source": [
    "\n",
    "\n",
    "class std:\n",
    "    def __init__(self,money) :\n",
    "        self.money=money\n",
    "    def __add__(self,other):\n",
    "        return self.money+other.accBal\n",
    "\n",
    "class clg:\n",
    "    def __init__(self,accBal) :\n",
    "        self.accBal=accBal\n",
    "\n",
    "c=clg(10000)\n",
    "s=std(20000)\n",
    "print(s+c)"
   ]
  }
 ],
 "metadata": {
  "kernelspec": {
   "display_name": "Python 3",
   "language": "python",
   "name": "python3"
  },
  "language_info": {
   "codemirror_mode": {
    "name": "ipython",
    "version": 3
   },
   "file_extension": ".py",
   "mimetype": "text/x-python",
   "name": "python",
   "nbconvert_exporter": "python",
   "pygments_lexer": "ipython3",
   "version": "3.10.4"
  },
  "orig_nbformat": 4
 },
 "nbformat": 4,
 "nbformat_minor": 2
}
