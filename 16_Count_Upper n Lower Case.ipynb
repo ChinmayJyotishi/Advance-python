{
 "cells": [
  {
   "cell_type": "code",
   "execution_count": 16,
   "metadata": {},
   "outputs": [
    {
     "name": "stdout",
     "output_type": "stream",
     "text": [
      "2 uppercase are present\n",
      "4 lowercase are present\n",
      "1 vowels are present\n",
      "2 digits are present\n",
      "2 special symbols are there\n",
      "2 spaces are present\n"
     ]
    }
   ],
   "source": [
    "class StringCount:\n",
    "    def __init__(self,msg):\n",
    "\n",
    "        self.uppercase=0\n",
    "        self.lowercase=0\n",
    "        self.vowels=0\n",
    "        self.digits=0\n",
    "        self.specialsymbols=0\n",
    "        self.space=0\n",
    "        self.msg=msg\n",
    "    def count_uppercase(self):\n",
    "        for i in self.msg:\n",
    "            if i.isupper():\n",
    "                self.uppercase+=1\n",
    "        print(f'{self.uppercase} uppercase are present')\n",
    "\n",
    "    def count_lowercase(self):\n",
    "        for i in self.msg:\n",
    "            if i.islower():\n",
    "                self.lowercase+=1\n",
    "        print(f'{self.lowercase} lowercase are present')\n",
    "    \n",
    "    \n",
    "    def count_vowels(self):\n",
    "         for i in self.msg:\n",
    "            if i in ('a','e','i','o','u','A','E','I','O','U'):\n",
    "                self.vowels+=1\n",
    "         print(f'{self.vowels} vowels are present')\n",
    "\n",
    "    def count_space(self):\n",
    "        for i in self.msg:\n",
    "            if i.isspace():\n",
    "                self.space+=1\n",
    "        print(f'{self.space} spaces are present')\n",
    "\n",
    "    def count_digit(self):\n",
    "\n",
    "        for i in self.msg:\n",
    "            if i.isdigit():\n",
    "                self.digits+=1\n",
    "        print(f'{self.digits} digits are present')\n",
    "    def count_specialsymbols(self):\n",
    "        for i in self.msg:\n",
    "            if i.isalpha():\n",
    "                pass\n",
    "            elif i.isspace():\n",
    "                pass\n",
    "            elif i.isdigit():\n",
    "                pass \n",
    "            else:\n",
    "                self.specialsymbols+=1\n",
    "        print(f'{self.specialsymbols} special symbols are there')\n",
    "\n",
    "    def CallAll(self):\n",
    "        self.count_uppercase()\n",
    "        self.count_lowercase()\n",
    "        self.count_vowels()\n",
    "        self.count_digit()\n",
    "        self.count_specialsymbols()\n",
    "        self.count_space()\n",
    "\n",
    "\n",
    "msg=input(\"Enter your string here\")\n",
    "StringObj=StringCount(msg)\n",
    "StringObj.CallAll()\n",
    "        "
   ]
  },
  {
   "cell_type": "code",
   "execution_count": null,
   "metadata": {},
   "outputs": [],
   "source": []
  },
  {
   "cell_type": "code",
   "execution_count": null,
   "metadata": {},
   "outputs": [],
   "source": []
  },
  {
   "cell_type": "code",
   "execution_count": null,
   "metadata": {},
   "outputs": [],
   "source": []
  },
  {
   "cell_type": "code",
   "execution_count": null,
   "metadata": {},
   "outputs": [],
   "source": []
  },
  {
   "cell_type": "code",
   "execution_count": null,
   "metadata": {},
   "outputs": [],
   "source": []
  }
 ],
 "metadata": {
  "kernelspec": {
   "display_name": "Python 3",
   "language": "python",
   "name": "python3"
  },
  "language_info": {
   "codemirror_mode": {
    "name": "ipython",
    "version": 3
   },
   "file_extension": ".py",
   "mimetype": "text/x-python",
   "name": "python",
   "nbconvert_exporter": "python",
   "pygments_lexer": "ipython3",
   "version": "3.10.4"
  },
  "orig_nbformat": 4,
  "vscode": {
   "interpreter": {
    "hash": "27f6fea6f47ae512550f0b8facdbd035a93e1dd89633f7bf2dd00a2502c71d0d"
   }
  }
 },
 "nbformat": 4,
 "nbformat_minor": 2
}
