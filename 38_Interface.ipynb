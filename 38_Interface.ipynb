{
 "cells": [
  {
   "cell_type": "code",
   "execution_count": 1,
   "metadata": {},
   "outputs": [
    {
     "ename": "TypeError",
     "evalue": "Can't instantiate abstract class Vehicle with abstract method no_seats",
     "output_type": "error",
     "traceback": [
      "\u001b[1;31m---------------------------------------------------------------------------\u001b[0m",
      "\u001b[1;31mTypeError\u001b[0m                                 Traceback (most recent call last)",
      "Cell \u001b[1;32mIn[1], line 14\u001b[0m\n\u001b[0;32m     11\u001b[0m     \u001b[39mdef\u001b[39;00m \u001b[39mvehicle_color\u001b[39m(\u001b[39mself\u001b[39m):\n\u001b[0;32m     12\u001b[0m         \u001b[39mpass\u001b[39;00m\n\u001b[1;32m---> 14\u001b[0m v\u001b[39m=\u001b[39mVehicle()\n",
      "\u001b[1;31mTypeError\u001b[0m: Can't instantiate abstract class Vehicle with abstract method no_seats"
     ]
    }
   ],
   "source": [
    "# interface will only hold the abstract methods\n",
    "\n",
    "from abc import ABC,abstractmethod\n",
    "\n",
    "class Vehicle(ABC):\n",
    "    @abstractmethod\n",
    "    def no_seats(self):\n",
    "        pass\n",
    "    def no_wheels(self):\n",
    "        pass\n",
    "    def vehicle_color(self):\n",
    "        pass\n",
    "\n",
    "v=Vehicle() #error because we can't create the obj of the interface"
   ]
  },
  {
   "cell_type": "code",
   "execution_count": 6,
   "metadata": {},
   "outputs": [
    {
     "name": "stdout",
     "output_type": "stream",
     "text": [
      "no .of seats are 55\n",
      "no of wheels are 6\n",
      "color of bus is red\n",
      "i am an extra..\n"
     ]
    }
   ],
   "source": [
    "\n",
    "class Vehicle(ABC):\n",
    "    @abstractmethod\n",
    "    def no_seats(self):\n",
    "        pass\n",
    "    def no_wheels(self):\n",
    "        pass\n",
    "    def vehicle_color(self):\n",
    "        pass\n",
    "\n",
    "class Bus(Vehicle):\n",
    "    def no_seats(self):\n",
    "        print(\"no .of seats are 55\")\n",
    "\n",
    "    def no_wheels(self):\n",
    "        print(\"no of wheels are 6\")\n",
    "\n",
    "    def vehicle_color(self):\n",
    "        print(\"color of bus is red\")\n",
    "    \n",
    "    def ExtraMethod(self):\n",
    "        print(\"i am an extra..\")\n",
    "\n",
    "b=Bus()\n",
    "b.no_seats()\n",
    "b.no_wheels()\n",
    "b.vehicle_color()\n",
    "b.ExtraMethod()"
   ]
  },
  {
   "cell_type": "code",
   "execution_count": null,
   "metadata": {},
   "outputs": [],
   "source": []
  },
  {
   "cell_type": "code",
   "execution_count": null,
   "metadata": {},
   "outputs": [],
   "source": []
  },
  {
   "cell_type": "code",
   "execution_count": null,
   "metadata": {},
   "outputs": [],
   "source": []
  },
  {
   "cell_type": "code",
   "execution_count": null,
   "metadata": {},
   "outputs": [],
   "source": []
  }
 ],
 "metadata": {
  "kernelspec": {
   "display_name": "Python 3",
   "language": "python",
   "name": "python3"
  },
  "language_info": {
   "codemirror_mode": {
    "name": "ipython",
    "version": 3
   },
   "file_extension": ".py",
   "mimetype": "text/x-python",
   "name": "python",
   "nbconvert_exporter": "python",
   "pygments_lexer": "ipython3",
   "version": "3.10.4"
  },
  "orig_nbformat": 4
 },
 "nbformat": 4,
 "nbformat_minor": 2
}
