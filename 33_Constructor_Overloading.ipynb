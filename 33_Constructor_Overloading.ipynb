{
 "cells": [
  {
   "cell_type": "code",
   "execution_count": 1,
   "metadata": {},
   "outputs": [
    {
     "ename": "TypeError",
     "evalue": "Test.__init__() missing 2 required positional arguments: 'b' and 'c'",
     "output_type": "error",
     "traceback": [
      "\u001b[1;31m---------------------------------------------------------------------------\u001b[0m",
      "\u001b[1;31mTypeError\u001b[0m                                 Traceback (most recent call last)",
      "Cell \u001b[1;32mIn[1], line 14\u001b[0m\n\u001b[0;32m     11\u001b[0m     \u001b[39mdef\u001b[39;00m \u001b[39m__init__\u001b[39m(\u001b[39mself\u001b[39m,a,b,c):\n\u001b[0;32m     12\u001b[0m         \u001b[39mprint\u001b[39m(a,b,c)\n\u001b[1;32m---> 14\u001b[0m t\u001b[39m=\u001b[39mTest(\u001b[39m10\u001b[39;49m)\n",
      "\u001b[1;31mTypeError\u001b[0m: Test.__init__() missing 2 required positional arguments: 'b' and 'c'"
     ]
    }
   ],
   "source": [
    "# as like method overloading python does not support constructor overloading \n",
    "# reason same as method overloading \n",
    "\n",
    "# but we can achieve by multipledispatch module\n",
    "\n",
    "class Test:\n",
    "    def __init__(self,a):\n",
    "        print(a)\n",
    "    def __init__(self,a,b):\n",
    "        print(a,b)\n",
    "    def __init__(self,a,b,c):\n",
    "        print(a,b,c)\n",
    "\n",
    "t=Test(10) #TypeError: Test.__init__() missing 2 required positional arguments: 'b' and 'c'\n",
    "\n",
    "        "
   ]
  },
  {
   "cell_type": "code",
   "execution_count": 4,
   "metadata": {},
   "outputs": [
    {
     "name": "stdout",
     "output_type": "stream",
     "text": [
      "10\n",
      "10 20\n",
      "10 20 256\n"
     ]
    }
   ],
   "source": [
    "from multipledispatch import dispatch\n",
    "\n",
    "class Test:\n",
    "    @dispatch(int)\n",
    "    def __init__(self,a):\n",
    "        print(a)\n",
    "    \n",
    "    @dispatch(int,int)\n",
    "    def __init__(self,a,b):\n",
    "        print(a,b)\n",
    "    \n",
    "    @dispatch(int,int,int)\n",
    "    def __init__(self,a,b,c):\n",
    "        print(a,b,c)\n",
    "\n",
    "t=Test(10)\n",
    "t=Test(10,20)\n",
    "t=Test(10,20,256)\n"
   ]
  },
  {
   "cell_type": "code",
   "execution_count": null,
   "metadata": {},
   "outputs": [],
   "source": []
  }
 ],
 "metadata": {
  "kernelspec": {
   "display_name": "Python 3",
   "language": "python",
   "name": "python3"
  },
  "language_info": {
   "codemirror_mode": {
    "name": "ipython",
    "version": 3
   },
   "file_extension": ".py",
   "mimetype": "text/x-python",
   "name": "python",
   "nbconvert_exporter": "python",
   "pygments_lexer": "ipython3",
   "version": "3.10.4"
  },
  "orig_nbformat": 4
 },
 "nbformat": 4,
 "nbformat_minor": 2
}
