{
 "cells": [
  {
   "cell_type": "code",
   "execution_count": 3,
   "metadata": {},
   "outputs": [
    {
     "name": "stdout",
     "output_type": "stream",
     "text": [
      "parent class method \n",
      "child1 class method\n",
      "parent class method \n",
      "child2 class method\n"
     ]
    }
   ],
   "source": [
    "class parent:\n",
    "    def method1(self):\n",
    "        print('parent class method ')\n",
    "class child1(parent):\n",
    "    def method2(self):\n",
    "        print(\"child1 class method\")\n",
    "class child2(parent):\n",
    "    def method3(self):\n",
    "        print(\"child2 class method\")\n",
    "\n",
    "# here 2 child class is derrived from single parent\n",
    "\n",
    "c1=child1()\n",
    "c1.method1()\n",
    "c1.method2()\n",
    "# c1.method3() #cant access other child method\n",
    "\n",
    "c2=child2()\n",
    "c2.method1()\n",
    "c2.method3()\n",
    "# c2.method2() #cant access other child method"
   ]
  },
  {
   "cell_type": "code",
   "execution_count": null,
   "metadata": {},
   "outputs": [],
   "source": []
  },
  {
   "cell_type": "code",
   "execution_count": null,
   "metadata": {},
   "outputs": [],
   "source": []
  },
  {
   "cell_type": "code",
   "execution_count": null,
   "metadata": {},
   "outputs": [],
   "source": []
  },
  {
   "cell_type": "code",
   "execution_count": null,
   "metadata": {},
   "outputs": [],
   "source": []
  },
  {
   "cell_type": "code",
   "execution_count": null,
   "metadata": {},
   "outputs": [],
   "source": []
  }
 ],
 "metadata": {
  "kernelspec": {
   "display_name": "Python 3",
   "language": "python",
   "name": "python3"
  },
  "language_info": {
   "codemirror_mode": {
    "name": "ipython",
    "version": 3
   },
   "file_extension": ".py",
   "mimetype": "text/x-python",
   "name": "python",
   "nbconvert_exporter": "python",
   "pygments_lexer": "ipython3",
   "version": "3.10.4"
  },
  "orig_nbformat": 4,
  "vscode": {
   "interpreter": {
    "hash": "27f6fea6f47ae512550f0b8facdbd035a93e1dd89633f7bf2dd00a2502c71d0d"
   }
  }
 },
 "nbformat": 4,
 "nbformat_minor": 2
}
