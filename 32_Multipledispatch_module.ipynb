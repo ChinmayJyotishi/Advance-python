{
 "cells": [
  {
   "cell_type": "code",
   "execution_count": 3,
   "metadata": {},
   "outputs": [
    {
     "name": "stdout",
     "output_type": "stream",
     "text": [
      "30\n",
      "3.0\n",
      "67.8\n"
     ]
    }
   ],
   "source": [
    "# now you can use method overloading by using multiple dispatch module \n",
    "# you have to install it first \n",
    "\n",
    "from multipledispatch import dispatch\n",
    "\n",
    "class T:\n",
    "    @dispatch(int,int)\n",
    "    def met(a,b):\n",
    "        print(a+b)\n",
    "\n",
    "    @dispatch(float,float)\n",
    "    def met(a,b):\n",
    "        print(a+b)\n",
    "\n",
    "    @dispatch(int,float,int)\n",
    "    def met(a,b,c):\n",
    "        print(a+b+c)\n",
    "\n",
    "t=T()\n",
    "t.met(10,20)\n",
    "t.met(1.0,2.0)\n",
    "t.met(10,2.8,55)\n",
    "\n",
    "# here we are declaring the types of arguments "
   ]
  }
 ],
 "metadata": {
  "kernelspec": {
   "display_name": "Python 3",
   "language": "python",
   "name": "python3"
  },
  "language_info": {
   "codemirror_mode": {
    "name": "ipython",
    "version": 3
   },
   "file_extension": ".py",
   "mimetype": "text/x-python",
   "name": "python",
   "nbconvert_exporter": "python",
   "pygments_lexer": "ipython3",
   "version": "3.10.4"
  },
  "orig_nbformat": 4
 },
 "nbformat": 4,
 "nbformat_minor": 2
}
