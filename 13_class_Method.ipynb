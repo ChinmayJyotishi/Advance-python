{
 "cells": [
  {
   "cell_type": "code",
   "execution_count": 4,
   "metadata": {},
   "outputs": [
    {
     "name": "stdout",
     "output_type": "stream",
     "text": [
      "Alpha college!\n",
      "3080804449728\n",
      "3080804449728\n"
     ]
    }
   ],
   "source": [
    "class std:\n",
    "    clg_name=\"Alpha college!\"\n",
    "    @classmethod\n",
    "    def cm(cls):\n",
    "        print(cls.clg_name)\n",
    "        print(id(cls))\n",
    "        print(id(std))\n",
    "std.cm()\n",
    "\n",
    "# you can call the classmethod by using obj but it is not recomended\n"
   ]
  },
  {
   "cell_type": "code",
   "execution_count": 8,
   "metadata": {},
   "outputs": [
    {
     "name": "stdout",
     "output_type": "stream",
     "text": [
      "college name is Alpha college!\n",
      "college name is JNM college\n"
     ]
    }
   ],
   "source": [
    "# modifiacation of the static variable by using the classmethod\n",
    "class std:\n",
    "    clg_name=\"Alpha college!\"\n",
    "    @classmethod\n",
    "    def cm(cls):\n",
    "        print(f'college name is {cls.clg_name}')\n",
    "    \n",
    "\n",
    "    @classmethod\n",
    "    def modify(cls):\n",
    "        cls.clg_name='JNM college'\n",
    "std.cm()\n",
    "std.modify()\n",
    "std.cm()"
   ]
  },
  {
   "cell_type": "code",
   "execution_count": 24,
   "metadata": {},
   "outputs": [
    {
     "name": "stdout",
     "output_type": "stream",
     "text": [
      "employee name is jakir hussein\n",
      "employee id is 21849598\n",
      "employee sec is A\n",
      "employee address is  Bbsr,lane-11,\n",
      "                     pin-751029,bharatpur\n",
      "employee name is jakir hussein\n",
      "employee id is 21849598\n",
      "employee sec is A\n"
     ]
    },
    {
     "ename": "AttributeError",
     "evalue": "type object 'employee' has no attribute 'emp_addr'",
     "output_type": "error",
     "traceback": [
      "\u001b[1;31m---------------------------------------------------------------------------\u001b[0m",
      "\u001b[1;31mAttributeError\u001b[0m                            Traceback (most recent call last)",
      "Cell \u001b[1;32mIn[24], line 27\u001b[0m\n\u001b[0;32m     24\u001b[0m employee\u001b[39m.\u001b[39mprint()\n\u001b[0;32m     25\u001b[0m employee\u001b[39m.\u001b[39mdelete()\n\u001b[1;32m---> 27\u001b[0m employee\u001b[39m.\u001b[39;49mprint()\n",
      "Cell \u001b[1;32mIn[24], line 13\u001b[0m, in \u001b[0;36memployee.print\u001b[1;34m(cls)\u001b[0m\n\u001b[0;32m     11\u001b[0m \u001b[39mprint\u001b[39m(\u001b[39mf\u001b[39m\u001b[39m'\u001b[39m\u001b[39memployee id is \u001b[39m\u001b[39m{\u001b[39;00m\u001b[39mcls\u001b[39m\u001b[39m.\u001b[39memp_id\u001b[39m}\u001b[39;00m\u001b[39m'\u001b[39m)\n\u001b[0;32m     12\u001b[0m \u001b[39mprint\u001b[39m(\u001b[39mf\u001b[39m\u001b[39m'\u001b[39m\u001b[39memployee sec is \u001b[39m\u001b[39m{\u001b[39;00m\u001b[39mcls\u001b[39m\u001b[39m.\u001b[39memp_sec\u001b[39m}\u001b[39;00m\u001b[39m'\u001b[39m)\n\u001b[1;32m---> 13\u001b[0m \u001b[39mprint\u001b[39m(\u001b[39mf\u001b[39m\u001b[39m'\u001b[39m\u001b[39memployee address is \u001b[39m\u001b[39m{\u001b[39;00m\u001b[39mcls\u001b[39;49m\u001b[39m.\u001b[39;49memp_addr\u001b[39m}\u001b[39;00m\u001b[39m'\u001b[39m)\n",
      "\u001b[1;31mAttributeError\u001b[0m: type object 'employee' has no attribute 'emp_addr'"
     ]
    }
   ],
   "source": [
    "# create an employee details and modify it \n",
    "class employee:\n",
    "    emp_name=\"jakir hussein\"\n",
    "    emp_id=21849598\n",
    "    emp_sec='A'\n",
    "\n",
    "\n",
    "    @classmethod #accessing through the classmethod\n",
    "    def printdetails(cls):\n",
    "        print(f'employee name is {cls.emp_name}')\n",
    "        print(f'employee id is {cls.emp_id}')\n",
    "        print(f'employee sec is {cls.emp_sec}')\n",
    "        # print(f'employee address is {cls.emp_addr}')\n",
    "    @classmethod\n",
    "    def add(cls):\n",
    "        cls.emp_addr=''' Bbsr,lane-11,\n",
    "                     pin-751029,bharatpur '''\n",
    "    \n",
    "\n",
    "    @classmethod\n",
    "    def delete(cls):\n",
    "        del cls.emp_addr\n",
    "employee.add()\n",
    "employee.printdetails()\n",
    "employee.delete()\n",
    "\n",
    "# employee.print()\n",
    "\n",
    "\n"
   ]
  },
  {
   "cell_type": "code",
   "execution_count": null,
   "metadata": {},
   "outputs": [],
   "source": []
  },
  {
   "cell_type": "code",
   "execution_count": null,
   "metadata": {},
   "outputs": [],
   "source": []
  },
  {
   "cell_type": "code",
   "execution_count": null,
   "metadata": {},
   "outputs": [],
   "source": []
  },
  {
   "cell_type": "code",
   "execution_count": null,
   "metadata": {},
   "outputs": [],
   "source": []
  },
  {
   "cell_type": "code",
   "execution_count": null,
   "metadata": {},
   "outputs": [],
   "source": []
  },
  {
   "cell_type": "code",
   "execution_count": null,
   "metadata": {},
   "outputs": [],
   "source": []
  }
 ],
 "metadata": {
  "kernelspec": {
   "display_name": "Python 3",
   "language": "python",
   "name": "python3"
  },
  "language_info": {
   "codemirror_mode": {
    "name": "ipython",
    "version": 3
   },
   "file_extension": ".py",
   "mimetype": "text/x-python",
   "name": "python",
   "nbconvert_exporter": "python",
   "pygments_lexer": "ipython3",
   "version": "3.10.4"
  },
  "orig_nbformat": 4,
  "vscode": {
   "interpreter": {
    "hash": "27f6fea6f47ae512550f0b8facdbd035a93e1dd89633f7bf2dd00a2502c71d0d"
   }
  }
 },
 "nbformat": 4,
 "nbformat_minor": 2
}
