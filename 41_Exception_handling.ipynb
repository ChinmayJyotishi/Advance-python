{
 "cells": [
  {
   "cell_type": "code",
   "execution_count": 1,
   "metadata": {},
   "outputs": [
    {
     "ename": "NameError",
     "evalue": "name 'hii' is not defined",
     "output_type": "error",
     "traceback": [
      "\u001b[1;31m---------------------------------------------------------------------------\u001b[0m",
      "\u001b[1;31mNameError\u001b[0m                                 Traceback (most recent call last)",
      "Cell \u001b[1;32mIn[1], line 3\u001b[0m\n\u001b[0;32m      1\u001b[0m \u001b[39m# syntax error \u001b[39;00m\n\u001b[1;32m----> 3\u001b[0m \u001b[39mprint\u001b[39m(hii)\n",
      "\u001b[1;31mNameError\u001b[0m: name 'hii' is not defined"
     ]
    }
   ],
   "source": [
    "# syntax error \n",
    "\n",
    "print(hii)"
   ]
  },
  {
   "cell_type": "code",
   "execution_count": 8,
   "metadata": {},
   "outputs": [
    {
     "ename": "SyntaxError",
     "evalue": "expected ':' (3632917124.py, line 2)",
     "output_type": "error",
     "traceback": [
      "\u001b[1;36m  Cell \u001b[1;32mIn[8], line 2\u001b[1;36m\u001b[0m\n\u001b[1;33m    for i in l\u001b[0m\n\u001b[1;37m              ^\u001b[0m\n\u001b[1;31mSyntaxError\u001b[0m\u001b[1;31m:\u001b[0m expected ':'\n"
     ]
    }
   ],
   "source": [
    "l=[10,20,3]\n",
    "for i in l\n",
    "    print(i,end=\" \")\n",
    "# print(l)"
   ]
  },
  {
   "cell_type": "code",
   "execution_count": 9,
   "metadata": {},
   "outputs": [
    {
     "ename": "SyntaxError",
     "evalue": "invalid syntax. Perhaps you forgot a comma? (1105244412.py, line 1)",
     "output_type": "error",
     "traceback": [
      "\u001b[1;36m  Cell \u001b[1;32mIn[9], line 1\u001b[1;36m\u001b[0m\n\u001b[1;33m    l=[10,20 30]\u001b[0m\n\u001b[1;37m          ^\u001b[0m\n\u001b[1;31mSyntaxError\u001b[0m\u001b[1;31m:\u001b[0m invalid syntax. Perhaps you forgot a comma?\n"
     ]
    }
   ],
   "source": [
    "l=[10,20 30]\n",
    "print(l)"
   ]
  },
  {
   "cell_type": "code",
   "execution_count": 10,
   "metadata": {},
   "outputs": [
    {
     "ename": "NameError",
     "evalue": "name 'x' is not defined",
     "output_type": "error",
     "traceback": [
      "\u001b[1;31m---------------------------------------------------------------------------\u001b[0m",
      "\u001b[1;31mNameError\u001b[0m                                 Traceback (most recent call last)",
      "Cell \u001b[1;32mIn[10], line 6\u001b[0m\n\u001b[0;32m      1\u001b[0m \u001b[39m# runtime error \u001b[39;00m\n\u001b[0;32m      2\u001b[0m \u001b[39m# beauty of runtime error --we can handle it \u001b[39;00m\n\u001b[0;32m      3\u001b[0m \u001b[39m# disadvantage -if error occure then rest code will not execute\u001b[39;00m\n\u001b[1;32m----> 6\u001b[0m x\n\u001b[0;32m      7\u001b[0m y\n\u001b[0;32m      8\u001b[0m \u001b[39mprint\u001b[39m(x\u001b[39m+\u001b[39my)\n",
      "\u001b[1;31mNameError\u001b[0m: name 'x' is not defined"
     ]
    }
   ],
   "source": [
    "# runtime error \n",
    "# beauty of runtime error --we can handle it \n",
    "# disadvantage -if error occure then rest code will not execute\n",
    "\n",
    "\n",
    "x\n",
    "y\n",
    "print(x+y)  #value is not provided by user "
   ]
  },
  {
   "cell_type": "code",
   "execution_count": 11,
   "metadata": {},
   "outputs": [
    {
     "ename": "IndexError",
     "evalue": "list index out of range",
     "output_type": "error",
     "traceback": [
      "\u001b[1;31m---------------------------------------------------------------------------\u001b[0m",
      "\u001b[1;31mIndexError\u001b[0m                                Traceback (most recent call last)",
      "Cell \u001b[1;32mIn[11], line 3\u001b[0m\n\u001b[0;32m      1\u001b[0m \u001b[39m# runtime at accessing \u001b[39;00m\n\u001b[0;32m      2\u001b[0m l\u001b[39m=\u001b[39m[\u001b[39m10\u001b[39m,\u001b[39m20\u001b[39m,\u001b[39m30\u001b[39m]\n\u001b[1;32m----> 3\u001b[0m \u001b[39mprint\u001b[39m(l[\u001b[39m99\u001b[39;49m])\n",
      "\u001b[1;31mIndexError\u001b[0m: list index out of range"
     ]
    }
   ],
   "source": [
    "# runtime at accessing \n",
    "l=[10,20,30]\n",
    "print(l[99])"
   ]
  },
  {
   "cell_type": "code",
   "execution_count": 13,
   "metadata": {},
   "outputs": [
    {
     "name": "stdout",
     "output_type": "stream",
     "text": [
      "1\n",
      "2\n"
     ]
    },
    {
     "ename": "TypeError",
     "evalue": "unsupported operand type(s) for /: 'int' and 'str'",
     "output_type": "error",
     "traceback": [
      "\u001b[1;31m---------------------------------------------------------------------------\u001b[0m",
      "\u001b[1;31mTypeError\u001b[0m                                 Traceback (most recent call last)",
      "Cell \u001b[1;32mIn[13], line 3\u001b[0m\n\u001b[0;32m      1\u001b[0m \u001b[39mprint\u001b[39m(\u001b[39m1\u001b[39m)\n\u001b[0;32m      2\u001b[0m \u001b[39mprint\u001b[39m(\u001b[39m2\u001b[39m)\n\u001b[1;32m----> 3\u001b[0m \u001b[39mprint\u001b[39m(\u001b[39m10\u001b[39;49m\u001b[39m/\u001b[39;49m\u001b[39m\"\u001b[39;49m\u001b[39mcj\u001b[39;49m\u001b[39m\"\u001b[39;49m)\n\u001b[0;32m      4\u001b[0m \u001b[39mprint\u001b[39m(\u001b[39m3\u001b[39m)\n\u001b[0;32m      5\u001b[0m \u001b[39mprint\u001b[39m(\u001b[39m3\u001b[39m)\n",
      "\u001b[1;31mTypeError\u001b[0m: unsupported operand type(s) for /: 'int' and 'str'"
     ]
    }
   ],
   "source": [
    "print(1)\n",
    "print(2)\n",
    "print(10/\"cj\") #runtime error because user provided wrong value (abnormal termination)\n",
    "print(3) #so these code will not execute(disadvantage)\n",
    "print(3)"
   ]
  },
  {
   "cell_type": "code",
   "execution_count": 14,
   "metadata": {},
   "outputs": [
    {
     "name": "stdout",
     "output_type": "stream",
     "text": [
      "1\n",
      "2\n",
      "unsupported operand type(s) for /: 'int' and 'str'\n",
      "3\n",
      "3\n"
     ]
    }
   ],
   "source": [
    "# how can i handle get full o/p\n",
    "print(1)\n",
    "print(2)\n",
    "try:\n",
    "    print(10/\"cj\") #exception handled\n",
    "except Exception as e:\n",
    "    print(e)\n",
    "    \n",
    "print(3) \n",
    "print(3)"
   ]
  },
  {
   "cell_type": "code",
   "execution_count": 16,
   "metadata": {},
   "outputs": [
    {
     "ename": "IndexError",
     "evalue": "list index out of range",
     "output_type": "error",
     "traceback": [
      "\u001b[1;31m---------------------------------------------------------------------------\u001b[0m",
      "\u001b[1;31mIndexError\u001b[0m                                Traceback (most recent call last)",
      "Cell \u001b[1;32mIn[16], line 2\u001b[0m\n\u001b[0;32m      1\u001b[0m l\u001b[39m=\u001b[39m[\u001b[39m10\u001b[39m,\u001b[39m20\u001b[39m,\u001b[39m3\u001b[39m]\n\u001b[1;32m----> 2\u001b[0m \u001b[39mprint\u001b[39m(l[\u001b[39m99\u001b[39;49m]) \u001b[39m#exception\u001b[39;00m\n\u001b[0;32m      3\u001b[0m \u001b[39mfor\u001b[39;00m i \u001b[39min\u001b[39;00m l:\n\u001b[0;32m      4\u001b[0m     \u001b[39mprint\u001b[39m(i)\n",
      "\u001b[1;31mIndexError\u001b[0m: list index out of range"
     ]
    }
   ],
   "source": [
    "l=[10,20,3]\n",
    "print(l[99]) #exception\n",
    "for i in l:\n",
    "    print(i)"
   ]
  },
  {
   "cell_type": "code",
   "execution_count": 17,
   "metadata": {},
   "outputs": [
    {
     "name": "stdout",
     "output_type": "stream",
     "text": [
      "list index out of range\n",
      "10\n",
      "20\n",
      "3\n"
     ]
    }
   ],
   "source": [
    "l=[10,20,3]\n",
    "try:\n",
    "    print(l[99]) #exception handled\n",
    "except Exception as e:\n",
    "    print(e)\n",
    "    \n",
    "for i in l:\n",
    "    print(i)"
   ]
  },
  {
   "cell_type": "code",
   "execution_count": 18,
   "metadata": {},
   "outputs": [
    {
     "ename": "ZeroDivisionError",
     "evalue": "division by zero",
     "output_type": "error",
     "traceback": [
      "\u001b[1;31m---------------------------------------------------------------------------\u001b[0m",
      "\u001b[1;31mZeroDivisionError\u001b[0m                         Traceback (most recent call last)",
      "Cell \u001b[1;32mIn[18], line 6\u001b[0m\n\u001b[0;32m      3\u001b[0m i\u001b[39m=\u001b[39m\u001b[39mint\u001b[39m(\u001b[39minput\u001b[39m(\u001b[39m\"\u001b[39m\u001b[39mEnter the 1st value\u001b[39m\u001b[39m\"\u001b[39m))\n\u001b[0;32m      4\u001b[0m j\u001b[39m=\u001b[39m\u001b[39mint\u001b[39m(\u001b[39minput\u001b[39m(\u001b[39m\"\u001b[39m\u001b[39mEnter the 2nd value\u001b[39m\u001b[39m\"\u001b[39m))\n\u001b[1;32m----> 6\u001b[0m \u001b[39mprint\u001b[39m(i\u001b[39m/\u001b[39;49mj)\n",
      "\u001b[1;31mZeroDivisionError\u001b[0m: division by zero"
     ]
    }
   ],
   "source": [
    "# popular example 10/0\n",
    "\n",
    "i=int(input(\"Enter the 1st value\"))\n",
    "j=int(input(\"Enter the 2nd value\"))\n",
    "\n",
    "print(i/j)"
   ]
  },
  {
   "cell_type": "code",
   "execution_count": 19,
   "metadata": {},
   "outputs": [
    {
     "name": "stdout",
     "output_type": "stream",
     "text": [
      "division by zero\n"
     ]
    }
   ],
   "source": [
    "i=int(input(\"Enter the 1st value\"))\n",
    "j=int(input(\"Enter the 2nd value\"))\n",
    "\n",
    "try:\n",
    "    print(i/j)\n",
    "except Exception as e:\n",
    "    print(e)"
   ]
  },
  {
   "cell_type": "code",
   "execution_count": 20,
   "metadata": {},
   "outputs": [
    {
     "name": "stdout",
     "output_type": "stream",
     "text": [
      "sorry u cant divide any number with 0\n"
     ]
    }
   ],
   "source": [
    "i=int(input(\"Enter the 1st value\"))\n",
    "j=int(input(\"Enter the 2nd value\"))\n",
    "\n",
    "try:\n",
    "    print(i/j)\n",
    "except ZeroDivisionError as e: #ZeroDivisionerror means it will handle only 0 division error\n",
    "    print(\"sorry u cant divide any number with 0\")"
   ]
  },
  {
   "cell_type": "code",
   "execution_count": 31,
   "metadata": {},
   "outputs": [
    {
     "ename": "IndexError",
     "evalue": "list index out of range",
     "output_type": "error",
     "traceback": [
      "\u001b[1;31m---------------------------------------------------------------------------\u001b[0m",
      "\u001b[1;31mIndexError\u001b[0m                                Traceback (most recent call last)",
      "Cell \u001b[1;32mIn[31], line 5\u001b[0m\n\u001b[0;32m      3\u001b[0m l\u001b[39m=\u001b[39m[\u001b[39m10\u001b[39m,\u001b[39m20\u001b[39m,\u001b[39m3\u001b[39m]\n\u001b[0;32m      4\u001b[0m \u001b[39mtry\u001b[39;00m:\n\u001b[1;32m----> 5\u001b[0m     \u001b[39mprint\u001b[39m(l[\u001b[39m12\u001b[39;49m])\n\u001b[0;32m      6\u001b[0m     \u001b[39mprint\u001b[39m(i\u001b[39m/\u001b[39mj)\n\u001b[0;32m      7\u001b[0m \u001b[39mexcept\u001b[39;00m \u001b[39mZeroDivisionError\u001b[39;00m \u001b[39mas\u001b[39;00m e: \n",
      "\u001b[1;31mIndexError\u001b[0m: list index out of range"
     ]
    }
   ],
   "source": [
    "i=int(input(\"Enter the 1st value\"))\n",
    "j=int(input(\"Enter the 2nd value\"))\n",
    "l=[10,20,3]\n",
    "try:\n",
    "    print(l[12])\n",
    "    print(i/j)\n",
    "except ZeroDivisionError as e: \n",
    "    print(\"sorry u cant divide any number with 0\")\n",
    "except IndexError as I:\n",
    "    print(I)"
   ]
  }
 ],
 "metadata": {
  "kernelspec": {
   "display_name": "Python 3",
   "language": "python",
   "name": "python3"
  },
  "language_info": {
   "codemirror_mode": {
    "name": "ipython",
    "version": 3
   },
   "file_extension": ".py",
   "mimetype": "text/x-python",
   "name": "python",
   "nbconvert_exporter": "python",
   "pygments_lexer": "ipython3",
   "version": "3.10.4"
  },
  "orig_nbformat": 4
 },
 "nbformat": 4,
 "nbformat_minor": 2
}
