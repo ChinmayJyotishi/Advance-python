{
 "cells": [
  {
   "cell_type": "code",
   "execution_count": 1,
   "metadata": {},
   "outputs": [
    {
     "name": "stdout",
     "output_type": "stream",
     "text": [
      "A class method \n",
      "B class method \n",
      "C class method \n"
     ]
    }
   ],
   "source": [
    "class A:\n",
    "    def test1(self):\n",
    "        print(\"A class method \")\n",
    "class B:\n",
    "    def test2(self):\n",
    "        print(\"B class method \")\n",
    "class C(A,B):\n",
    "    def test3(self):\n",
    "        print(\"C class method \")\n",
    "\n",
    "\n",
    "c=C()\n",
    "c.test1()\n",
    "c.test2()\n",
    "c.test3()"
   ]
  },
  {
   "cell_type": "code",
   "execution_count": 2,
   "metadata": {},
   "outputs": [
    {
     "name": "stdout",
     "output_type": "stream",
     "text": [
      "A class method \n"
     ]
    }
   ],
   "source": [
    "#what happend if the parent class mathod name will same ,which one will print first?\n",
    "class A:\n",
    "    def test1(self):\n",
    "        print(\"A class method \") \n",
    "class B:\n",
    "    def test1(self):\n",
    "        print('B class method')\n",
    "\n",
    "class C(A,B): #the ans is which class is written first that class method will come first because that class will be treated as 1st priority\n",
    "    def test2(self):\n",
    "        print(\"C class method\")\n",
    "\n",
    "c=C()\n",
    "c.test1()"
   ]
  },
  {
   "cell_type": "code",
   "execution_count": 3,
   "metadata": {},
   "outputs": [
    {
     "name": "stdout",
     "output_type": "stream",
     "text": [
      "C class method\n"
     ]
    }
   ],
   "source": [
    "# but what happen when all child's  method name is also  same \n",
    "class A:\n",
    "    def test1(self):\n",
    "        print(\"A class method \") \n",
    "class B:\n",
    "    def test1(self):\n",
    "        print('B class method')\n",
    "class C(A,B):\n",
    "    def test1(self):\n",
    "        print(\"C class method\")\n",
    "# then child class will be treated as 1st priority\n",
    "\n",
    "c=C()\n",
    "c.test1()"
   ]
  },
  {
   "cell_type": "code",
   "execution_count": null,
   "metadata": {},
   "outputs": [],
   "source": []
  },
  {
   "cell_type": "code",
   "execution_count": null,
   "metadata": {},
   "outputs": [],
   "source": []
  },
  {
   "cell_type": "code",
   "execution_count": null,
   "metadata": {},
   "outputs": [],
   "source": []
  },
  {
   "cell_type": "code",
   "execution_count": null,
   "metadata": {},
   "outputs": [],
   "source": []
  },
  {
   "cell_type": "code",
   "execution_count": null,
   "metadata": {},
   "outputs": [],
   "source": []
  }
 ],
 "metadata": {
  "kernelspec": {
   "display_name": "Python 3",
   "language": "python",
   "name": "python3"
  },
  "language_info": {
   "codemirror_mode": {
    "name": "ipython",
    "version": 3
   },
   "file_extension": ".py",
   "mimetype": "text/x-python",
   "name": "python",
   "nbconvert_exporter": "python",
   "pygments_lexer": "ipython3",
   "version": "3.10.4"
  },
  "orig_nbformat": 4
 },
 "nbformat": 4,
 "nbformat_minor": 2
}
