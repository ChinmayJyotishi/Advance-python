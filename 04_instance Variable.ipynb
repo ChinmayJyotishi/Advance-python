{
 "cells": [
  {
   "cell_type": "code",
   "execution_count": 5,
   "metadata": {},
   "outputs": [
    {
     "name": "stdout",
     "output_type": "stream",
     "text": [
      "{'name': 'cj', 'age': 21, 'sid': 25668}\n"
     ]
    }
   ],
   "source": [
    "# creation of instance variable\n",
    "\n",
    "class student:\n",
    "    def __init__(self,x,y,z):  #these are my local variables\n",
    "        self.name=x  #self.name is my instance varable\n",
    "        self.age=y\n",
    "        self.sid=z\n",
    "\n",
    "s1=student('cj',21,25668)\n",
    "print(s1.__dict__) #this is the prove that instance variable is created and it is holding the values\n"
   ]
  },
  {
   "cell_type": "code",
   "execution_count": 6,
   "metadata": {},
   "outputs": [
    {
     "name": "stdout",
     "output_type": "stream",
     "text": [
      "{}\n",
      "{'name': 'chinmay', 'age': 21, 'id': 256488}\n"
     ]
    }
   ],
   "source": [
    "#creation of instance variable inside of the class\n",
    "\n",
    "class student:\n",
    "    def data(self,name,age,sid):\n",
    "        self.name=name\n",
    "        self.age=age\n",
    "        self.id=sid\n",
    "\n",
    "s1=student()\n",
    "print(s1.__dict__)  #it will give u an empty dict as we didn't call the instance method\n",
    "s1.data('chinmay',21,256488)\n",
    "print(s1.__dict__)  #now it will give u the values\n"
   ]
  },
  {
   "cell_type": "code",
   "execution_count": 10,
   "metadata": {},
   "outputs": [
    {
     "name": "stdout",
     "output_type": "stream",
     "text": [
      "{'name': 'cj'}\n",
      "{'name': 'cj', 'age': 21}\n",
      "{'name': 'cj', 'age': 21, 'roll': 1025}\n"
     ]
    }
   ],
   "source": [
    "# creation of intstance variable outside of the class\n",
    "class student:\n",
    "    def __init__(self,name) :\n",
    "        self.name=name\n",
    "    \n",
    "s1=student('cj')\n",
    "print(s1.__dict__)\n",
    "s1.age=21               #this is the instance variable created outside of the class\n",
    "print(s1.__dict__)\n",
    "s1.roll=1025\n",
    "print(s1.__dict__)"
   ]
  },
  {
   "cell_type": "code",
   "execution_count": null,
   "metadata": {},
   "outputs": [],
   "source": []
  },
  {
   "cell_type": "code",
   "execution_count": null,
   "metadata": {},
   "outputs": [],
   "source": []
  },
  {
   "cell_type": "code",
   "execution_count": null,
   "metadata": {},
   "outputs": [],
   "source": []
  }
 ],
 "metadata": {
  "kernelspec": {
   "display_name": "Python 3",
   "language": "python",
   "name": "python3"
  },
  "language_info": {
   "codemirror_mode": {
    "name": "ipython",
    "version": 3
   },
   "file_extension": ".py",
   "mimetype": "text/x-python",
   "name": "python",
   "nbconvert_exporter": "python",
   "pygments_lexer": "ipython3",
   "version": "3.10.4"
  },
  "orig_nbformat": 4,
  "vscode": {
   "interpreter": {
    "hash": "27f6fea6f47ae512550f0b8facdbd035a93e1dd89633f7bf2dd00a2502c71d0d"
   }
  }
 },
 "nbformat": 4,
 "nbformat_minor": 2
}
