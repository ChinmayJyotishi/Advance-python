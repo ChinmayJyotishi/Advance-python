{
 "cells": [
  {
   "cell_type": "code",
   "execution_count": 2,
   "metadata": {},
   "outputs": [
    {
     "name": "stdout",
     "output_type": "stream",
     "text": [
      "10 20\n"
     ]
    }
   ],
   "source": [
    "# if there is 2 or methods with same name with different number and types of parameter then it is known as method overloading.\n",
    "\n",
    "class Test:\n",
    "    def met(self,a,b):\n",
    "        print(a,b)\n",
    "    # def met(self,a,b,c):\n",
    "        # print(a,b,c)\n",
    "\n",
    "m=Test()\n",
    "m.met(10,20)\n",
    "# here if u execute this code then it will throw an error  TypeError: mo.met() missing 1 required positional argument: 'c'\n",
    "# because python will take the  updated one means the last one \n",
    "# thats why python doesn't support method overloading directly \n",
    "# but there is a way \n"
   ]
  },
  {
   "cell_type": "code",
   "execution_count": 10,
   "metadata": {},
   "outputs": [
    {
     "name": "stdout",
     "output_type": "stream",
     "text": [
      "(10,)\n",
      "(10, 20)\n",
      "(10, 20, 0)\n",
      "(10, 20, 45, 8)\n"
     ]
    }
   ],
   "source": [
    "# to acheive the method overloading \n",
    "class Test:\n",
    "    def met(self,*a):\n",
    "        print(a)\n",
    "    \n",
    "t=Test()\n",
    "t.met(10)\n",
    "t.met(10,20)\n",
    "t.met(10,20,0)\n",
    "t.met(10,20,45,8)\n",
    "\n",
    "# this is not the official method overloading but it acts like that or u can achieve by this \n",
    "# PYTHON DOES NOT SUPPORT METHOD OVERLOADING \n",
    "\n",
    "# if u have argument knowledge of function then u can easily understand"
   ]
  },
  {
   "cell_type": "code",
   "execution_count": 15,
   "metadata": {},
   "outputs": [
    {
     "name": "stdout",
     "output_type": "stream",
     "text": [
      "10 20\n",
      "10 None\n"
     ]
    }
   ],
   "source": [
    "# another way is there but not soo much important or impactfull\n",
    "class Test:\n",
    "    def met(self,a=None,b=None):\n",
    "        print(a,b)\n",
    "\n",
    "t=Test()\n",
    "t.met(10,20)\n",
    "t.met(10)"
   ]
  },
  {
   "cell_type": "code",
   "execution_count": null,
   "metadata": {},
   "outputs": [],
   "source": []
  }
 ],
 "metadata": {
  "kernelspec": {
   "display_name": "Python 3",
   "language": "python",
   "name": "python3"
  },
  "language_info": {
   "codemirror_mode": {
    "name": "ipython",
    "version": 3
   },
   "file_extension": ".py",
   "mimetype": "text/x-python",
   "name": "python",
   "nbconvert_exporter": "python",
   "pygments_lexer": "ipython3",
   "version": "3.10.4"
  },
  "orig_nbformat": 4
 },
 "nbformat": 4,
 "nbformat_minor": 2
}
