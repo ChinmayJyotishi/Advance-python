{
 "cells": [
  {
   "cell_type": "code",
   "execution_count": 2,
   "metadata": {},
   "outputs": [
    {
     "name": "stdout",
     "output_type": "stream",
     "text": [
      "A class method\n",
      "B class method\n",
      "C class method\n",
      "D class method\n"
     ]
    }
   ],
   "source": [
    "# hybrid is the combination of any 2 inheritances\n",
    "class A:\n",
    "    def test1(self):\n",
    "        print(\"A class method\")\n",
    "class B(A):\n",
    "    def test2(self):\n",
    "        print(\"B class method\")\n",
    "class C(A):\n",
    "    def test3(self):\n",
    "        print(\"C class method\")\n",
    "class D(B,C):\n",
    "    def test4(self):\n",
    "        print(\"D class method\")\n",
    "d=D()\n",
    "d.test1()\n",
    "d.test2()\n",
    "d.test3()\n",
    "d.test4()\n",
    "# as D is inherited from those who already inherited from other so it contains  properties of  all classes\n"
   ]
  },
  {
   "cell_type": "code",
   "execution_count": null,
   "metadata": {},
   "outputs": [],
   "source": [
    "# but the problem in this inheritance think 1 min if there are so many parents and they all are containing same method and i am creating obj of D and calling them then which method will come \n",
    "# because in the concept of multiple inheritance D is inherited from B and C so as per priority between one of these classes one method will come but what about other parent's method like A or other \n",
    "# the solution is solved in MRO algorithm"
   ]
  },
  {
   "cell_type": "code",
   "execution_count": null,
   "metadata": {},
   "outputs": [],
   "source": []
  },
  {
   "cell_type": "code",
   "execution_count": null,
   "metadata": {},
   "outputs": [],
   "source": []
  }
 ],
 "metadata": {
  "kernelspec": {
   "display_name": "Python 3",
   "language": "python",
   "name": "python3"
  },
  "language_info": {
   "codemirror_mode": {
    "name": "ipython",
    "version": 3
   },
   "file_extension": ".py",
   "mimetype": "text/x-python",
   "name": "python",
   "nbconvert_exporter": "python",
   "pygments_lexer": "ipython3",
   "version": "3.10.4"
  },
  "orig_nbformat": 4
 },
 "nbformat": 4,
 "nbformat_minor": 2
}
