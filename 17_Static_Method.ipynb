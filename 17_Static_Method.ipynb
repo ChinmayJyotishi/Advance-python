{
 "cells": [
  {
   "cell_type": "code",
   "execution_count": 2,
   "metadata": {},
   "outputs": [
    {
     "name": "stdout",
     "output_type": "stream",
     "text": [
      "sum is 104\n"
     ]
    }
   ],
   "source": [
    "# if u don't want to work with static and instance variable then go for static method\n",
    "\n",
    "class cal:\n",
    "    @staticmethod\n",
    "    def add(a,b):\n",
    "        print(f'sum is {a+b}')\n",
    "# cal.add(10,20)\n",
    "c1=cal()\n",
    "c1.add(52,52) #you can call through the referance variable but not recommended"
   ]
  },
  {
   "cell_type": "code",
   "execution_count": 3,
   "metadata": {},
   "outputs": [
    {
     "name": "stdout",
     "output_type": "stream",
     "text": [
      "sum is 44\n",
      "sub is 24\n"
     ]
    }
   ],
   "source": [
    "# you can call one staticmthod inside another static method but you have to use classname\n",
    "\n",
    "class cal:\n",
    "    @staticmethod\n",
    "    def add(a,b):\n",
    "        print(f'sum is {a+b}')\n",
    "        cal.sub(44,20)\n",
    "    \n",
    "    @staticmethod\n",
    "    def sub(a,b):\n",
    "        print(f'sub is {a-b}')\n",
    "    \n",
    "cal.add(22,22)"
   ]
  },
  {
   "cell_type": "code",
   "execution_count": null,
   "metadata": {},
   "outputs": [],
   "source": []
  },
  {
   "cell_type": "code",
   "execution_count": null,
   "metadata": {},
   "outputs": [],
   "source": []
  },
  {
   "cell_type": "markdown",
   "metadata": {},
   "source": []
  },
  {
   "cell_type": "code",
   "execution_count": null,
   "metadata": {},
   "outputs": [],
   "source": []
  },
  {
   "cell_type": "code",
   "execution_count": null,
   "metadata": {},
   "outputs": [],
   "source": []
  },
  {
   "cell_type": "code",
   "execution_count": null,
   "metadata": {},
   "outputs": [],
   "source": []
  },
  {
   "cell_type": "code",
   "execution_count": null,
   "metadata": {},
   "outputs": [],
   "source": []
  }
 ],
 "metadata": {
  "kernelspec": {
   "display_name": "Python 3",
   "language": "python",
   "name": "python3"
  },
  "language_info": {
   "codemirror_mode": {
    "name": "ipython",
    "version": 3
   },
   "file_extension": ".py",
   "mimetype": "text/x-python",
   "name": "python",
   "nbconvert_exporter": "python",
   "pygments_lexer": "ipython3",
   "version": "3.10.4"
  },
  "orig_nbformat": 4,
  "vscode": {
   "interpreter": {
    "hash": "27f6fea6f47ae512550f0b8facdbd035a93e1dd89633f7bf2dd00a2502c71d0d"
   }
  }
 },
 "nbformat": 4,
 "nbformat_minor": 2
}
