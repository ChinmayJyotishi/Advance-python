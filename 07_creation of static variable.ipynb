{
 "cells": [
  {
   "cell_type": "code",
   "execution_count": 2,
   "metadata": {},
   "outputs": [
    {
     "data": {
      "text/plain": [
       "mappingproxy({'__module__': '__main__',\n",
       "              'office_name': 'delta company',\n",
       "              '__dict__': <attribute '__dict__' of 'emp' objects>,\n",
       "              '__weakref__': <attribute '__weakref__' of 'emp' objects>,\n",
       "              '__doc__': None})"
      ]
     },
     "execution_count": 2,
     "metadata": {},
     "output_type": "execute_result"
    }
   ],
   "source": [
    "# inside the class directly\n",
    "\n",
    "class emp:\n",
    "    office_name=\"delta company\" #static variable inside the class\n",
    "\n",
    "\n",
    "s1=emp()\n",
    "s1.__dict__\n",
    "\n",
    "emp.__dict__"
   ]
  },
  {
   "cell_type": "code",
   "execution_count": 8,
   "metadata": {},
   "outputs": [
    {
     "name": "stdout",
     "output_type": "stream",
     "text": [
      "cys\n",
      "746546897\n",
      "delta company\n"
     ]
    },
    {
     "data": {
      "text/plain": [
       "mappingproxy({'__module__': '__main__',\n",
       "              'office_name': 'delta company',\n",
       "              '__init__': <function __main__.emp.__init__(self, name, sid)>,\n",
       "              'print': <function __main__.emp.print(self)>,\n",
       "              '__dict__': <attribute '__dict__' of 'emp' objects>,\n",
       "              '__weakref__': <attribute '__weakref__' of 'emp' objects>,\n",
       "              '__doc__': None})"
      ]
     },
     "execution_count": 8,
     "metadata": {},
     "output_type": "execute_result"
    }
   ],
   "source": [
    "# outside of the constructor and inside of the class\n",
    "\n",
    "class emp:\n",
    "\n",
    "    office_name=\"delta company\"\n",
    "    def __init__(self,name,sid):\n",
    "        self.name=name\n",
    "        self.sid=sid\n",
    "    def print(self):\n",
    "        print(self.name)\n",
    "        print(self.sid)\n",
    "        print(self.office_name)\n",
    "\n",
    "s1=emp('cys',746546897)\n",
    "s1.__dict__\n",
    "s1.print()\n",
    "emp.__dict__"
   ]
  },
  {
   "cell_type": "code",
   "execution_count": 22,
   "metadata": {},
   "outputs": [
    {
     "name": "stdout",
     "output_type": "stream",
     "text": [
      "{'__module__': '__main__', '__init__': <function student.__init__ at 0x000001D6A7B90430>, '__dict__': <attribute '__dict__' of 'student' objects>, '__weakref__': <attribute '__weakref__' of 'student' objects>, '__doc__': None, 'college': 'alpha college', 'branch': 'cse'}\n",
      "2021432811392\n"
     ]
    }
   ],
   "source": [
    "# outside of the class using class name\n",
    "\n",
    "class student:\n",
    "    def __init__(self,name,age) :\n",
    "        self.name=name\n",
    "        self.age=age\n",
    "    \n",
    "s1=student('cj',21)\n",
    "s1.__dict__\n",
    "\n",
    "# print(student.__dict__)\n",
    "student.college='alpha college'\n",
    "student.branch='cse'\n",
    "print(student.__dict__)\n",
    "\n",
    "print(id(student)) #in the static variable internally class is pointing to an object which holds the static variabls and the class name is acting as a referance and pointing to a memory location so thats why the id is coming\n",
    "        "
   ]
  },
  {
   "cell_type": "code",
   "execution_count": 2,
   "metadata": {},
   "outputs": [
    {
     "name": "stdout",
     "output_type": "stream",
     "text": [
      "{}\n",
      "{'__module__': '__main__', '__init__': <function student.__init__ at 0x0000015E6B817B50>, '__dict__': <attribute '__dict__' of 'student' objects>, '__weakref__': <attribute '__weakref__' of 'student' objects>, '__doc__': None, 'name': 'JNM college'}\n"
     ]
    }
   ],
   "source": [
    "# creation of static variable inside constructor \n",
    "class student:\n",
    "    def __init__(self) :\n",
    "        student.name='JNM college'\n",
    "\n",
    "s1=student()\n",
    "print(s1.__dict__)\n",
    "print(student.__dict__)"
   ]
  },
  {
   "cell_type": "code",
   "execution_count": 5,
   "metadata": {},
   "outputs": [
    {
     "name": "stdout",
     "output_type": "stream",
     "text": [
      "{'__module__': '__main__', 'create': <function student.create at 0x0000015E6B8179A0>, '__dict__': <attribute '__dict__' of 'student' objects>, '__weakref__': <attribute '__weakref__' of 'student' objects>, '__doc__': None}\n",
      "{'__module__': '__main__', 'create': <function student.create at 0x0000015E6B8179A0>, '__dict__': <attribute '__dict__' of 'student' objects>, '__weakref__': <attribute '__weakref__' of 'student' objects>, '__doc__': None, 'college': 'JNM college'}\n"
     ]
    }
   ],
   "source": [
    "# inside instance method \n",
    "class student:\n",
    "    def create(self):\n",
    "        student.college='JNM college'\n",
    "\n",
    "s1=student()\n",
    "\n",
    "# remembere this is an instance method not a constructor so u have to call it without calling it will not execute and it will not create a static variable \n",
    "print(student.__dict__) #before calling instance method \n",
    "s1.create()\n",
    "print(student.__dict__) #after calling "
   ]
  },
  {
   "cell_type": "code",
   "execution_count": 1,
   "metadata": {},
   "outputs": [
    {
     "name": "stdout",
     "output_type": "stream",
     "text": [
      "{'__module__': '__main__', 'cm': <classmethod(<function student.cm at 0x00000262F89BEDD0>)>, '__dict__': <attribute '__dict__' of 'student' objects>, '__weakref__': <attribute '__weakref__' of 'student' objects>, '__doc__': None, 'college': 'LPU unversity'}\n"
     ]
    }
   ],
   "source": [
    "# inside the class method \n",
    "class student:\n",
    "    @classmethod\n",
    "    def cm(cls):\n",
    "        student.college='JNM college '\n",
    "        cls.college='LPU unversity'\n",
    "        # you can use both ways to create static variable\n",
    "        \n",
    "    \n",
    "# s1=student()\n",
    "# here also u have to call the class method\n",
    "# to call use class name\n",
    "student.cm()\n",
    "print(student.__dict__)\n",
    "\n",
    "# self means current object \n",
    "# cls means current class object\n",
    "\n"
   ]
  },
  {
   "cell_type": "code",
   "execution_count": 10,
   "metadata": {},
   "outputs": [
    {
     "name": "stdout",
     "output_type": "stream",
     "text": [
      "1505028855408\n",
      "{'__module__': '__main__', 'cm': <classmethod(<function student.cm at 0x0000015E6B9A32E0>)>, '__dict__': <attribute '__dict__' of 'student' objects>, '__weakref__': <attribute '__weakref__' of 'student' objects>, '__doc__': None, 'college': 'LPU unversity'}\n",
      "1505028855408\n"
     ]
    }
   ],
   "source": [
    "class student:\n",
    "    @classmethod  #decorator\n",
    "    def cm(cls):\n",
    "        student.college='JNM college '\n",
    "        cls.college='LPU unversity'\n",
    "        print(id(cls))\n",
    "    \n",
    "s1=student()\n",
    "student.cm()\n",
    "print(student.__dict__)\n",
    "print(id(student))\n",
    "\n",
    "# both student and cls are pointing to same location because their ids are same"
   ]
  },
  {
   "cell_type": "code",
   "execution_count": 3,
   "metadata": {},
   "outputs": [
    {
     "name": "stdout",
     "output_type": "stream",
     "text": [
      "{'__module__': '__main__', 'sm': <staticmethod(<function student.sm at 0x00000262F89BF010>)>, '__dict__': <attribute '__dict__' of 'student' objects>, '__weakref__': <attribute '__weakref__' of 'student' objects>, '__doc__': None, 'college': 'JNM college'}\n"
     ]
    }
   ],
   "source": [
    "# inside the static method\n",
    "class student:\n",
    "    @staticmethod\n",
    "    def sm(): #for static method no first argument is required \n",
    "        student.college='JNM college'\n",
    "\n",
    "# s1=student()\n",
    "student.sm()\n",
    "print(student.__dict__)\n"
   ]
  },
  {
   "cell_type": "code",
   "execution_count": null,
   "metadata": {},
   "outputs": [],
   "source": []
  }
 ],
 "metadata": {
  "kernelspec": {
   "display_name": "Python 3",
   "language": "python",
   "name": "python3"
  },
  "language_info": {
   "codemirror_mode": {
    "name": "ipython",
    "version": 3
   },
   "file_extension": ".py",
   "mimetype": "text/x-python",
   "name": "python",
   "nbconvert_exporter": "python",
   "pygments_lexer": "ipython3",
   "version": "3.10.4"
  },
  "orig_nbformat": 4,
  "vscode": {
   "interpreter": {
    "hash": "27f6fea6f47ae512550f0b8facdbd035a93e1dd89633f7bf2dd00a2502c71d0d"
   }
  }
 },
 "nbformat": 4,
 "nbformat_minor": 2
}
