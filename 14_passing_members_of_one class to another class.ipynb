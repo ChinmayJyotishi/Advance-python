{
 "cells": [
  {
   "cell_type": "code",
   "execution_count": 10,
   "metadata": {},
   "outputs": [
    {
     "name": "stdout",
     "output_type": "stream",
     "text": [
      "Name is chinmay\n",
      "Age is 21\n",
      "adress is cuttack\n",
      "--------------------\n",
      "Name is chinmay\n",
      "Age is 21\n",
      "adress is bbsr\n",
      "--------------------\n"
     ]
    }
   ],
   "source": [
    "# PASSING MEMEBERS OF ONE CLASS TO ANOTHER CLASS::-\n",
    "class firstClass:\n",
    "    def __init__(self,name,age,address) :\n",
    "        self.name=name\n",
    "        self.age=age\n",
    "        self.address=address\n",
    "    \n",
    "    def printdetails(self):\n",
    "        print(f'Name is {self.name}')\n",
    "        print(f'Age is {self.age}')\n",
    "        print(f'adress is {self.address}')\n",
    "        print('-'*20)\n",
    "\n",
    "class secondClass:\n",
    "    @staticmethod\n",
    "    def sm(r):  #it receive the s1\n",
    "        r.address='bbsr' #r.address means s1.address because we are passing the s1\n",
    "\n",
    "s1=firstClass('chinmay',21,'cuttack')\n",
    "s1.printdetails()\n",
    "\n",
    "secondClass.sm(s1)\n",
    "\n",
    "s1.printdetails()\n",
    "        \n"
   ]
  },
  {
   "cell_type": "code",
   "execution_count": 16,
   "metadata": {},
   "outputs": [
    {
     "name": "stdout",
     "output_type": "stream",
     "text": [
      "cuttack\n"
     ]
    }
   ],
   "source": [
    "# passing single member\n",
    "class firstClass:\n",
    "    def __init__(self,name,age,address) :\n",
    "        self.name=name\n",
    "        self.age=age\n",
    "        self.address=address\n",
    "    \n",
    "    def printdetails(self):\n",
    "        print(f'Name is {self.name}')\n",
    "        print(f'Age is {self.age}')\n",
    "        print(f'adress is {self.address}')\n",
    "        print('-'*20)\n",
    "\n",
    "class secondClass:\n",
    "    @staticmethod\n",
    "    def sm(r): \n",
    "        print(r)\n",
    "\n",
    "s1=firstClass('chinmay',21,'cuttack')\n",
    "# s1.printdetails()\n",
    "\n",
    "secondClass.sm(s1.address)\n",
    "\n",
    "# s1.printdetails()"
   ]
  },
  {
   "cell_type": "code",
   "execution_count": null,
   "metadata": {},
   "outputs": [],
   "source": []
  },
  {
   "cell_type": "code",
   "execution_count": null,
   "metadata": {},
   "outputs": [],
   "source": []
  },
  {
   "cell_type": "code",
   "execution_count": null,
   "metadata": {},
   "outputs": [],
   "source": []
  },
  {
   "cell_type": "code",
   "execution_count": null,
   "metadata": {},
   "outputs": [],
   "source": []
  },
  {
   "cell_type": "code",
   "execution_count": null,
   "metadata": {},
   "outputs": [],
   "source": []
  },
  {
   "cell_type": "code",
   "execution_count": null,
   "metadata": {},
   "outputs": [],
   "source": []
  },
  {
   "cell_type": "code",
   "execution_count": null,
   "metadata": {},
   "outputs": [],
   "source": []
  }
 ],
 "metadata": {
  "kernelspec": {
   "display_name": "Python 3",
   "language": "python",
   "name": "python3"
  },
  "language_info": {
   "codemirror_mode": {
    "name": "ipython",
    "version": 3
   },
   "file_extension": ".py",
   "mimetype": "text/x-python",
   "name": "python",
   "nbconvert_exporter": "python",
   "pygments_lexer": "ipython3",
   "version": "3.10.4"
  },
  "orig_nbformat": 4,
  "vscode": {
   "interpreter": {
    "hash": "27f6fea6f47ae512550f0b8facdbd035a93e1dd89633f7bf2dd00a2502c71d0d"
   }
  }
 },
 "nbformat": 4,
 "nbformat_minor": 2
}
