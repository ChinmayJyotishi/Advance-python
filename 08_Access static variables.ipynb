{
 "cells": [
  {
   "cell_type": "code",
   "execution_count": 2,
   "metadata": {},
   "outputs": [
    {
     "name": "stdout",
     "output_type": "stream",
     "text": [
      "JNM college\n"
     ]
    }
   ],
   "source": [
    "# oustside of  the class directly \n",
    "class student:\n",
    "    college='JNM college'\n",
    "print(student.college)\n",
    "# obj creation is not required "
   ]
  },
  {
   "cell_type": "code",
   "execution_count": 3,
   "metadata": {},
   "outputs": [
    {
     "name": "stdout",
     "output_type": "stream",
     "text": [
      "JNM college\n"
     ]
    }
   ],
   "source": [
    "# inside the constructor\n",
    "class student:\n",
    "      college='JNM college'\n",
    "      def __init__(self) :\n",
    "        print(student.college)\n",
    "s1=student()\n",
    "        "
   ]
  },
  {
   "cell_type": "code",
   "execution_count": 2,
   "metadata": {},
   "outputs": [
    {
     "name": "stdout",
     "output_type": "stream",
     "text": [
      "JNM college\n"
     ]
    }
   ],
   "source": [
    "# inside the instance method \n",
    "class std:\n",
    "    clg='JNM college'\n",
    "    def create(self):\n",
    "        print(std.clg)\n",
    "s1=std()\n",
    "s1.create()"
   ]
  },
  {
   "cell_type": "code",
   "execution_count": 20,
   "metadata": {},
   "outputs": [
    {
     "name": "stdout",
     "output_type": "stream",
     "text": [
      "JNM college\n"
     ]
    }
   ],
   "source": [
    "# inside the static method\n",
    "class std:\n",
    "    clg1='JNM college'\n",
    "    @staticmethod\n",
    "    def sm():\n",
    "        print(std.clg1)\n",
    "std.sm()"
   ]
  },
  {
   "cell_type": "code",
   "execution_count": 1,
   "metadata": {},
   "outputs": [
    {
     "name": "stdout",
     "output_type": "stream",
     "text": [
      "JNM college\n"
     ]
    }
   ],
   "source": [
    "# inside the class method\n",
    "class std:\n",
    "    clg='JNM college'\n",
    "    @classmethod\n",
    "    def cm(cls):\n",
    "        print(cls.clg)\n",
    "\n",
    "std.cm() \n"
   ]
  },
  {
   "cell_type": "code",
   "execution_count": null,
   "metadata": {},
   "outputs": [],
   "source": []
  },
  {
   "cell_type": "code",
   "execution_count": null,
   "metadata": {},
   "outputs": [],
   "source": []
  }
 ],
 "metadata": {
  "kernelspec": {
   "display_name": "Python 3",
   "language": "python",
   "name": "python3"
  },
  "language_info": {
   "codemirror_mode": {
    "name": "ipython",
    "version": 3
   },
   "file_extension": ".py",
   "mimetype": "text/x-python",
   "name": "python",
   "nbconvert_exporter": "python",
   "pygments_lexer": "ipython3",
   "version": "3.10.4"
  },
  "orig_nbformat": 4,
  "vscode": {
   "interpreter": {
    "hash": "27f6fea6f47ae512550f0b8facdbd035a93e1dd89633f7bf2dd00a2502c71d0d"
   }
  }
 },
 "nbformat": 4,
 "nbformat_minor": 2
}
