{
 "cells": [
  {
   "cell_type": "code",
   "execution_count": 5,
   "metadata": {},
   "outputs": [
    {
     "name": "stdout",
     "output_type": "stream",
     "text": [
      "{'color': 'red', 'hp': 220, 'wheels': 8}\n"
     ]
    }
   ],
   "source": [
    "class truck:\n",
    "    def __init__(self,color,hp,wheels) :\n",
    "        self.color=color\n",
    "        self.hp=hp\n",
    "        self.wheels=wheels\n",
    "    \n",
    "s1=truck('red',220,8)\n",
    "print(s1.__dict__)\n",
    "\n",
    "\n",
    "# constructor will execute only once for the same object"
   ]
  },
  {
   "cell_type": "code",
   "execution_count": 5,
   "metadata": {},
   "outputs": [
    {
     "name": "stdout",
     "output_type": "stream",
     "text": [
      "this is my company\n"
     ]
    }
   ],
   "source": [
    "# in python class can be made without constructor ,it is not mendatory\n",
    "\n",
    "class  employee:\n",
    "    def companydetails(self):\n",
    "        print(\"this is my company\")\n",
    "\n",
    "s1=employee()\n",
    "s1.companydetails()\n",
    "\n",
    "# here we didn't add any constructor but python will add a default constructor behind the screen"
   ]
  },
  {
   "cell_type": "code",
   "execution_count": 10,
   "metadata": {},
   "outputs": [
    {
     "name": "stdout",
     "output_type": "stream",
     "text": [
      "constructor\n",
      "constructor\n",
      "constructor\n",
      "constructor\n"
     ]
    }
   ],
   "source": [
    "# if we will call constructor manually the it will be treated as normal method\n",
    "\n",
    "class const:\n",
    "    def __init__(self) :\n",
    "        print(\"constructor\")\n",
    "\n",
    "s1=const() \n",
    "s1.__init__()\n",
    "s1.__init__()\n",
    "s1.__init__()"
   ]
  },
  {
   "cell_type": "code",
   "execution_count": 13,
   "metadata": {},
   "outputs": [
    {
     "data": {
      "text/plain": [
       "{'name': 'cj', 'age': 1}"
      ]
     },
     "execution_count": 13,
     "metadata": {},
     "output_type": "execute_result"
    }
   ],
   "source": [
    "# we can't create multiple constructor in a class due to overloading is not supported by python\n",
    "\n",
    "class  employee:\n",
    "    def __init__(self,name):\n",
    "        self.name=name\n",
    "    \n",
    "\n",
    "    def __init__(self,name,age) :\n",
    "        self.name=name\n",
    "        self.age=age\n",
    "    \n",
    "# s1=employee('cj')\n",
    "s1=employee('cj',1)\n",
    "s1.__dict__"
   ]
  },
  {
   "cell_type": "code",
   "execution_count": 19,
   "metadata": {},
   "outputs": [
    {
     "name": "stdout",
     "output_type": "stream",
     "text": [
      "constructor\n",
      "this is my company\n"
     ]
    },
    {
     "data": {
      "text/plain": [
       "{'name': 'hf'}"
      ]
     },
     "execution_count": 19,
     "metadata": {},
     "output_type": "execute_result"
    }
   ],
   "source": [
    "# non parameterized constructor\n",
    "# only self is present\n",
    "class const:\n",
    "    def __init__(self) :\n",
    "        print(\"constructor\")\n",
    "\n",
    "s1=const()\n",
    "s1.__dict__\n",
    "\n",
    "#   default constructor\n",
    "class  employee:\n",
    "    def companydetails(self):\n",
    "        print(\"this is my company\")\n",
    "\n",
    "s1=employee()\n",
    "s1.companydetails()\n",
    "\n",
    "\n",
    "# parameterized  constructor\n",
    "class el:\n",
    "    def __init__(self,name) :\n",
    "        self.name=name\n",
    "\n",
    "s1=el('hf')\n",
    "s1.__dict__\n",
    "\n",
    "\n"
   ]
  },
  {
   "cell_type": "code",
   "execution_count": null,
   "metadata": {},
   "outputs": [],
   "source": []
  }
 ],
 "metadata": {
  "kernelspec": {
   "display_name": "Python 3",
   "language": "python",
   "name": "python3"
  },
  "language_info": {
   "codemirror_mode": {
    "name": "ipython",
    "version": 3
   },
   "file_extension": ".py",
   "mimetype": "text/x-python",
   "name": "python",
   "nbconvert_exporter": "python",
   "pygments_lexer": "ipython3",
   "version": "3.10.4 (tags/v3.10.4:9d38120, Mar 23 2022, 23:13:41) [MSC v.1929 64 bit (AMD64)]"
  },
  "orig_nbformat": 4,
  "vscode": {
   "interpreter": {
    "hash": "27f6fea6f47ae512550f0b8facdbd035a93e1dd89633f7bf2dd00a2502c71d0d"
   }
  }
 },
 "nbformat": 4,
 "nbformat_minor": 2
}
