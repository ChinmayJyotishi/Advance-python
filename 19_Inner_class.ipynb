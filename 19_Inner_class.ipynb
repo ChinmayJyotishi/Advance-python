{
 "cells": [
  {
   "cell_type": "code",
   "execution_count": 7,
   "metadata": {},
   "outputs": [
    {
     "name": "stdout",
     "output_type": "stream",
     "text": [
      "Hii I am Outer Class\n",
      "Hii I am Inner Class\n",
      "Hii I am Inner Class\n",
      "Hii I am Outer Class\n",
      "Hii I am Inner Class\n"
     ]
    }
   ],
   "source": [
    "class outer:\n",
    "    def __init__(self) :\n",
    "        print(\"Hii I am Outer Class\")\n",
    "\n",
    "    class inner:\n",
    "        def __init__(self) :\n",
    "            print(\"Hii I am Inner Class\")\n",
    "# outer class obj creation \n",
    "# to execute the inner class u have to create the obj for inner class also\n",
    "out=outer()\n",
    "# In=inner() #NameError: name 'inner' is not defined\n",
    "In=out.inner()\n",
    "In=outer.inner() #you can also create like this \n",
    "In=outer().inner() #by writing like this outer constructer will also execute\n",
    "\n",
    "        "
   ]
  },
  {
   "cell_type": "code",
   "execution_count": 8,
   "metadata": {},
   "outputs": [
    {
     "name": "stdout",
     "output_type": "stream",
     "text": [
      "Hii I am Inner Class\n",
      "Hii I am Outer Class\n"
     ]
    }
   ],
   "source": [
    "# inner class obj creation inside outer class\n",
    "class outer:\n",
    "    def __init__(self) :\n",
    "        print(\"Hii I am Outer Class\")\n",
    "\n",
    "    class inner:\n",
    "        def __init__(self) :\n",
    "            print(\"Hii I am Inner Class\")\n",
    "    i=inner()\n",
    "o=outer()\n",
    "\n",
    "# first python will create an default obj the it will enter to the class so constructor is there without obj creation it will not execute then enter to another class same story repeat but here it will get the first obj as inner so the inner class constructor will execute first then outer class\n"
   ]
  },
  {
   "cell_type": "code",
   "execution_count": 1,
   "metadata": {},
   "outputs": [
    {
     "name": "stdout",
     "output_type": "stream",
     "text": [
      "Hii I am Outer Class\n",
      "Hii I am Inner Class\n",
      "Hii i am 2nd inner class\n"
     ]
    }
   ],
   "source": [
    "# one outer class can contain multiple inner class \n",
    "\n",
    "class outer:\n",
    "    def __init__(self) :\n",
    "        print(\"Hii I am Outer Class\")\n",
    "\n",
    "    class inner:\n",
    "        def __init__(self) :\n",
    "            print(\"Hii I am Inner Class\")\n",
    "        class inner1:\n",
    "            def __init__(self) :\n",
    "                print(\"Hii i am 2nd inner class\")\n",
    "o=outer()\n",
    "I=o.inner()\n",
    "ii=I.inner1() #here the i represents the outer class and itself also so u can write like this"
   ]
  },
  {
   "cell_type": "code",
   "execution_count": null,
   "metadata": {},
   "outputs": [],
   "source": []
  },
  {
   "cell_type": "code",
   "execution_count": null,
   "metadata": {},
   "outputs": [],
   "source": []
  },
  {
   "cell_type": "code",
   "execution_count": null,
   "metadata": {},
   "outputs": [],
   "source": []
  },
  {
   "cell_type": "code",
   "execution_count": null,
   "metadata": {},
   "outputs": [],
   "source": []
  },
  {
   "cell_type": "code",
   "execution_count": null,
   "metadata": {},
   "outputs": [],
   "source": []
  }
 ],
 "metadata": {
  "kernelspec": {
   "display_name": "Python 3",
   "language": "python",
   "name": "python3"
  },
  "language_info": {
   "codemirror_mode": {
    "name": "ipython",
    "version": 3
   },
   "file_extension": ".py",
   "mimetype": "text/x-python",
   "name": "python",
   "nbconvert_exporter": "python",
   "pygments_lexer": "ipython3",
   "version": "3.10.4"
  },
  "orig_nbformat": 4,
  "vscode": {
   "interpreter": {
    "hash": "27f6fea6f47ae512550f0b8facdbd035a93e1dd89633f7bf2dd00a2502c71d0d"
   }
  }
 },
 "nbformat": 4,
 "nbformat_minor": 2
}
