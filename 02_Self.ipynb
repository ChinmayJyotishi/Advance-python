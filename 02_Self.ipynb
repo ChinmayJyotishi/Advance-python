{
 "cells": [
  {
   "cell_type": "code",
   "execution_count": 4,
   "metadata": {},
   "outputs": [
    {
     "name": "stdout",
     "output_type": "stream",
     "text": [
      "name is chinmay\n",
      "age is 21\n",
      "citypin is 125489\n"
     ]
    }
   ],
   "source": [
    "class Student:\n",
    "    def __init__(self):\n",
    "        self.name=input(\"Enter your name: \")\n",
    "        self.age=int(input(\"Enter your age: \"))\n",
    "        self.city_pin=int(input(\"Enter your city_pin: \"))\n",
    "    def print(self):\n",
    "        print(f'name is {self.name}')\n",
    "        print(f'age is {self.age}')\n",
    "        print(f'citypin is {self.city_pin}')\n",
    "\n",
    "s1=Student()\n",
    "s1.print()"
   ]
  },
  {
   "cell_type": "code",
   "execution_count": null,
   "metadata": {},
   "outputs": [],
   "source": [
    "class Student:\n",
    "    def __init__(self):\n",
    "        self.name=input(\"Enter your name: \")\n",
    "        self.age=int(input(\"Enter your age: \"))\n",
    "        self.city_pin=int(input(\"Enter your city_pin: \"))\n",
    "    def print(self):\n",
    "        print(f'name is {self.name}')\n",
    "        print(f'age is {self.age}')\n",
    "        print(f'citypin is {self.city_pin}')\n",
    "\n",
    "s1=Student()\n",
    "s1.print()\n",
    "s2=Student()\n",
    "s2.print()"
   ]
  },
  {
   "cell_type": "code",
   "execution_count": 7,
   "metadata": {},
   "outputs": [
    {
     "name": "stdout",
     "output_type": "stream",
     "text": [
      "2169345260272\n",
      "2169345260272\n",
      "-------------------------\n",
      "2169345258448\n",
      "2169345258448\n"
     ]
    }
   ],
   "source": [
    "# referance variable and self is same \n",
    "\n",
    "\n",
    "class student:\n",
    "    def __init__(self):\n",
    "        print(id(self))\n",
    "    \n",
    "s1=student()\n",
    "print(id(s1))\n",
    "print('-'*25)\n",
    "\n",
    "s2=student()\n",
    "print(id(s2))"
   ]
  },
  {
   "cell_type": "code",
   "execution_count": 8,
   "metadata": {},
   "outputs": [
    {
     "name": "stdout",
     "output_type": "stream",
     "text": [
      "name is chinmay\n",
      "age is 21\n",
      "citypin is 165464\n"
     ]
    }
   ],
   "source": [
    "# self is not a keyword u can put any name in place o self\n",
    "class Student:\n",
    "    def __init__(x):\n",
    "        x.name=input(\"Enter your name: \")\n",
    "        x.age=int(input(\"Enter your age: \"))\n",
    "        x.city_pin=int(input(\"Enter your city_pin: \"))\n",
    "    def print(x):\n",
    "        print(f'name is {x.name}')\n",
    "        print(f'age is {x.age}')\n",
    "        print(f'citypin is {x.city_pin}')\n",
    "\n",
    "s1=Student()\n",
    "s1.print()"
   ]
  }
 ],
 "metadata": {
  "kernelspec": {
   "display_name": "Python 3",
   "language": "python",
   "name": "python3"
  },
  "language_info": {
   "codemirror_mode": {
    "name": "ipython",
    "version": 3
   },
   "file_extension": ".py",
   "mimetype": "text/x-python",
   "name": "python",
   "nbconvert_exporter": "python",
   "pygments_lexer": "ipython3",
   "version": "3.10.4"
  },
  "orig_nbformat": 4,
  "vscode": {
   "interpreter": {
    "hash": "27f6fea6f47ae512550f0b8facdbd035a93e1dd89633f7bf2dd00a2502c71d0d"
   }
  }
 },
 "nbformat": 4,
 "nbformat_minor": 2
}
