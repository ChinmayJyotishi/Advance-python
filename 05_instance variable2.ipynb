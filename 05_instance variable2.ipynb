{
 "cells": [
  {
   "cell_type": "code",
   "execution_count": 3,
   "metadata": {},
   "outputs": [
    {
     "name": "stdout",
     "output_type": "stream",
     "text": [
      "name is cj\n",
      "age  is 21\n",
      "sid is 15456\n"
     ]
    }
   ],
   "source": [
    "# Accessing and deleting the instance variable \n",
    "\n",
    "# access within the class \n",
    "class student:\n",
    "    def __init__(self,name,age,sid):\n",
    "        self.name=name\n",
    "        self.age=age\n",
    "        self.sid=sid\n",
    "    # accessing the variables inside the class using instance method\n",
    "\n",
    "    def print(self):\n",
    "        print(f'name is {self.name}')\n",
    "        print(f'age  is {self.age}')\n",
    "        print(f'sid is {self.sid}')\n",
    "\n",
    "s1=student(\"cj\",21,15456)\n",
    "s1.print()\n",
    "        "
   ]
  },
  {
   "cell_type": "code",
   "execution_count": 4,
   "metadata": {},
   "outputs": [
    {
     "name": "stdout",
     "output_type": "stream",
     "text": [
      "name is cj\n",
      "age  is 21\n",
      "sid is 15456\n"
     ]
    }
   ],
   "source": [
    "\n",
    "# access within the class \n",
    "class student:\n",
    "    def __init__(self,name,age,sid):\n",
    "        self.name=name\n",
    "        self.age=age\n",
    "        self.sid=sid\n",
    "    # accessing the variables inside the class\n",
    "    \n",
    "        print(f'name is {self.name}')\n",
    "        print(f'age  is {self.age}')\n",
    "        print(f'sid is {self.sid}')\n",
    "\n",
    "s1=student(\"cj\",21,15456)"
   ]
  },
  {
   "cell_type": "code",
   "execution_count": 3,
   "metadata": {},
   "outputs": [
    {
     "name": "stdout",
     "output_type": "stream",
     "text": [
      "name is cj\n",
      "age  is 21\n",
      "sid is 15456\n"
     ]
    }
   ],
   "source": [
    "\n",
    "class student:\n",
    "    def __init__(self,name,age,sid):\n",
    "        self.name=name\n",
    "        self.age=age\n",
    "        self.sid=sid\n",
    "\n",
    "    \n",
    "\n",
    "s1=student(\"cj\",21,15456)\n",
    "    # accessing the variables outside of  the class\n",
    "print(f'name is {s1.name}')\n",
    "print(f'age  is {s1.age}')\n",
    "print(f'sid is {s1.sid}')"
   ]
  },
  {
   "cell_type": "code",
   "execution_count": 10,
   "metadata": {},
   "outputs": [
    {
     "name": "stdout",
     "output_type": "stream",
     "text": [
      "{'name': 'cj', 'age': 21, 'sid': 1644}\n",
      "{'age': 21, 'sid': 1644}\n"
     ]
    }
   ],
   "source": [
    "# delete instance variable inside the class \n",
    "class student:\n",
    "    def __init__(self,name,age,sid):\n",
    "        self.name=name\n",
    "        self.age=age\n",
    "        self.sid=sid\n",
    "    def deletdata(self):\n",
    "        del self.name\n",
    "    \n",
    "s1=student('cj',21,1644)\n",
    "print(s1.__dict__)\n",
    "s1.deletdata()\n",
    "print(s1.__dict__)"
   ]
  },
  {
   "cell_type": "code",
   "execution_count": 12,
   "metadata": {},
   "outputs": [
    {
     "name": "stdout",
     "output_type": "stream",
     "text": [
      "{'age': 21, 'sid': 1644}\n"
     ]
    }
   ],
   "source": [
    "# delete instance variable inside the class inside the constructor\n",
    "class student:\n",
    "    def __init__(self,name,age,sid):\n",
    "        self.name=name\n",
    "        self.age=age\n",
    "        self.sid=sid\n",
    "        del self.name #deletion\n",
    "\n",
    "s1=student('cj',21,1644)\n",
    "print(s1.__dict__)"
   ]
  },
  {
   "cell_type": "code",
   "execution_count": 13,
   "metadata": {},
   "outputs": [
    {
     "name": "stdout",
     "output_type": "stream",
     "text": [
      "{'age': 21, 'sid': 1644}\n"
     ]
    }
   ],
   "source": [
    "# delete instance variable outside of  the class \n",
    "\n",
    "class student:\n",
    "    def __init__(self,name,age,sid):\n",
    "        self.name=name\n",
    "        self.age=age\n",
    "        self.sid=sid\n",
    "      \n",
    "\n",
    "s1=student('cj',21,1644)\n",
    "del s1.name   #deletion from outside of the class\n",
    "print(s1.__dict__)\n",
    "\n",
    "# you can delete more then 1 variable at a time"
   ]
  }
 ],
 "metadata": {
  "kernelspec": {
   "display_name": "Python 3",
   "language": "python",
   "name": "python3"
  },
  "language_info": {
   "codemirror_mode": {
    "name": "ipython",
    "version": 3
   },
   "file_extension": ".py",
   "mimetype": "text/x-python",
   "name": "python",
   "nbconvert_exporter": "python",
   "pygments_lexer": "ipython3",
   "version": "3.10.4"
  },
  "orig_nbformat": 4,
  "vscode": {
   "interpreter": {
    "hash": "27f6fea6f47ae512550f0b8facdbd035a93e1dd89633f7bf2dd00a2502c71d0d"
   }
  }
 },
 "nbformat": 4,
 "nbformat_minor": 2
}
