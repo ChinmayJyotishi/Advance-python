{
 "cells": [
  {
   "cell_type": "code",
   "execution_count": 2,
   "metadata": {},
   "outputs": [
    {
     "name": "stdout",
     "output_type": "stream",
     "text": [
      "child class method4\n",
      "parent class method1\n"
     ]
    }
   ],
   "source": [
    "class parentclass:\n",
    "    def method1(self):\n",
    "        print(\"parent class method1\")\n",
    "    def method2(self):\n",
    "        print(\"parent class method2\")\n",
    "    def method3(self):\n",
    "        print(\"parent class method3\")\n",
    "class childclass(parentclass):\n",
    "    def method4(self):\n",
    "        print(\"child class method4\")\n",
    "\n",
    "c=childclass()\n",
    "c.method4()\n",
    "c.method1()\n",
    "\n",
    "        \n",
    "    "
   ]
  },
  {
   "cell_type": "code",
   "execution_count": 19,
   "metadata": {},
   "outputs": [
    {
     "name": "stdout",
     "output_type": "stream",
     "text": [
      "sum is 30\n"
     ]
    }
   ],
   "source": [
    "class base:\n",
    "    def __init__(self) :\n",
    "        self.a=10\n",
    "        self.b=20\n",
    "class derrived(base):\n",
    "    def fun(self):\n",
    "        print(f'sum is {self.a+self.b}')\n",
    "d=derrived()\n",
    "d.fun()"
   ]
  },
  {
   "cell_type": "code",
   "execution_count": 20,
   "metadata": {},
   "outputs": [
    {
     "name": "stdout",
     "output_type": "stream",
     "text": [
      "chinmay's salary is 10000\n"
     ]
    }
   ],
   "source": [
    "class base:\n",
    "    def __init__(self):\n",
    "        self.salA=10000\n",
    "        self.salB=20000\n",
    "        self.salC=30000\n",
    "\n",
    "class derived(base):\n",
    "    def fun(self):\n",
    "        print(f\"chinmay's salary is {self.salA}\")\n",
    "\n",
    "d=derived()\n",
    "d.fun()"
   ]
  },
  {
   "cell_type": "code",
   "execution_count": null,
   "metadata": {},
   "outputs": [],
   "source": []
  },
  {
   "cell_type": "code",
   "execution_count": null,
   "metadata": {},
   "outputs": [],
   "source": []
  },
  {
   "cell_type": "code",
   "execution_count": null,
   "metadata": {},
   "outputs": [],
   "source": []
  },
  {
   "cell_type": "code",
   "execution_count": null,
   "metadata": {},
   "outputs": [],
   "source": []
  },
  {
   "cell_type": "code",
   "execution_count": null,
   "metadata": {},
   "outputs": [],
   "source": []
  },
  {
   "cell_type": "code",
   "execution_count": null,
   "metadata": {},
   "outputs": [],
   "source": []
  }
 ],
 "metadata": {
  "kernelspec": {
   "display_name": "Python 3",
   "language": "python",
   "name": "python3"
  },
  "language_info": {
   "codemirror_mode": {
    "name": "ipython",
    "version": 3
   },
   "file_extension": ".py",
   "mimetype": "text/x-python",
   "name": "python",
   "nbconvert_exporter": "python",
   "pygments_lexer": "ipython3",
   "version": "3.10.4"
  },
  "orig_nbformat": 4,
  "vscode": {
   "interpreter": {
    "hash": "27f6fea6f47ae512550f0b8facdbd035a93e1dd89633f7bf2dd00a2502c71d0d"
   }
  }
 },
 "nbformat": 4,
 "nbformat_minor": 2
}
