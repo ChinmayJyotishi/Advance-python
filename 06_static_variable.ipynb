{
 "cells": [
  {
   "cell_type": "code",
   "execution_count": 6,
   "metadata": {},
   "outputs": [
    {
     "name": "stdout",
     "output_type": "stream",
     "text": [
      "{'name': 'cj', 'age': 21, 'sid': 55164, 'college': 'abc_clg'}\n",
      "{'name': 'lala', 'age': 19, 'sid': 4644, 'college': 'abc_clg'}\n",
      "{'__module__': '__main__', '__init__': <function student.__init__ at 0x0000028E7D01A950>, '__dict__': <attribute '__dict__' of 'student' objects>, '__weakref__': <attribute '__weakref__' of 'student' objects>, '__doc__': None}\n"
     ]
    }
   ],
   "source": [
    "class student:\n",
    "    \n",
    "    def __init__(self,name,age,sid,college) :\n",
    "        self.name=name\n",
    "        self.age=age\n",
    "        self.sid=sid\n",
    "        self.college=college\n",
    "\n",
    "s1=student('cj',21,55164,'abc_clg')\n",
    "s2=student('lala',19,4644,'abc_clg')\n",
    "\n",
    "\n",
    "print(s1.__dict__)\n",
    "print(s2.__dict__)\n",
    "\n",
    "\n",
    "# static variable is a class level variable\n",
    "# better place to declare static variable is outside of the constuctor\n",
    "# no keyword is required to declare a static variable\n",
    "print(student.__dict__) #no static variable in the class\n",
    "        "
   ]
  },
  {
   "cell_type": "code",
   "execution_count": 5,
   "metadata": {},
   "outputs": [
    {
     "name": "stdout",
     "output_type": "stream",
     "text": [
      "{'name': 'cj', 'age': 21, 'sid': 55164}\n",
      "{'name': 'lala', 'age': 19, 'sid': 4644}\n",
      "{'__module__': '__main__', 'college_name': 'abc_clg  ', '__init__': <function student.__init__ at 0x0000028E015FB400>, '__dict__': <attribute '__dict__' of 'student' objects>, '__weakref__': <attribute '__weakref__' of 'student' objects>, '__doc__': None}\n"
     ]
    }
   ],
   "source": [
    "class student:\n",
    "    college_name='abc_clg  '  #static variable\n",
    "    def __init__(self,name,age,sid) :\n",
    "        self.name=name\n",
    "        self.age=age\n",
    "        self.sid=sid\n",
    "\n",
    "s1=student('cj',21,55164)\n",
    "s2=student('lala',19,4644)\n",
    "\n",
    "\n",
    "print(s1.__dict__)\n",
    "print(s2.__dict__)\n",
    "\n",
    "\n",
    "# if u change the value of a instance variable then it will reflect to a particular object but if u change the staic var value then it will refelect to all the objects\n",
    "\n",
    "# static variable is a class level variable\n",
    "#proof is that -->\n",
    "print(student.__dict__)"
   ]
  }
 ],
 "metadata": {
  "kernelspec": {
   "display_name": "Python 3",
   "language": "python",
   "name": "python3"
  },
  "language_info": {
   "codemirror_mode": {
    "name": "ipython",
    "version": 3
   },
   "file_extension": ".py",
   "mimetype": "text/x-python",
   "name": "python",
   "nbconvert_exporter": "python",
   "pygments_lexer": "ipython3",
   "version": "3.10.4"
  },
  "orig_nbformat": 4,
  "vscode": {
   "interpreter": {
    "hash": "27f6fea6f47ae512550f0b8facdbd035a93e1dd89633f7bf2dd00a2502c71d0d"
   }
  }
 },
 "nbformat": 4,
 "nbformat_minor": 2
}
